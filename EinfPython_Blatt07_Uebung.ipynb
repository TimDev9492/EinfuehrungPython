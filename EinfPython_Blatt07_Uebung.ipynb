{
 "cells": [
  {
   "cell_type": "markdown",
   "metadata": {},
   "source": [
    "# Einführung in Python - Übungsblatt 7\n",
    "\n",
    "## Aufgabe 1 (Vererbung)\n",
    "\n",
    "### a) Vererbung an einem einfachen Beispiel\n",
    "Betrachten Sie folgenden Quellcode. Überlegen Sie sich, ohne den Code auszuführen, welche Attribute die von\n",
    "`a`, `b` und `c` referenzierten Instanzen jeweils besitzen und woher die vorhandenen Methoden jeweils geerbt worden sind.\n",
    "\n",
    "Stellen Sie eine Vermutung auf, welche Ausgabe der Code erzeugt."
   ]
  },
  {
   "cell_type": "code",
   "execution_count": 1,
   "metadata": {},
   "outputs": [
    {
     "name": "stdout",
     "output_type": "stream",
     "text": [
      "Ich bin der Konstruktor von A\n",
      "\n",
      "Ich bin der Konstruktor von A\n",
      "Ich bin der Konstruktor von B\n",
      "\n",
      "Ich bin der Konstruktor von A\n",
      "Ich bin der Konstruktor von B\n"
     ]
    }
   ],
   "source": [
    "class A:\n",
    "    def __init__(self):\n",
    "        print(\"Ich bin der Konstruktor von A\")\n",
    "        self.x = 5\n",
    "    \n",
    "    def m(self):\n",
    "        print(\"Ich bin A.m\")\n",
    "\n",
    "        \n",
    "class B(A):\n",
    "    def __init__(self, k=12):\n",
    "        super().__init__()\n",
    "        print(\"Ich bin der Konstruktor von B\")\n",
    "        self.y = k\n",
    "\n",
    "    def mm(self):\n",
    "        print(\"Ich bin B.mm\")\n",
    "\n",
    "\n",
    "class C(B):\n",
    "    def m(self):\n",
    "        print(\"Ich bin C.m\")\n",
    "        super().m()\n",
    "\n",
    "\n",
    "a = A()\n",
    "print()\n",
    "\n",
    "b = B()\n",
    "print()\n",
    "\n",
    "c = C()"
   ]
  },
  {
   "cell_type": "markdown",
   "metadata": {},
   "source": [
    "*Bemerkung:  \n",
    "Mit `super()` kann man auf Methoden der Basisklasse zugreifen.*\n",
    "\n",
    "### b) Vererbte Methoden\n",
    "Überlegen Sie sich, welche Ausgabe die Ausführung der folgenden Zelle erzeugt."
   ]
  },
  {
   "cell_type": "code",
   "execution_count": 2,
   "metadata": {},
   "outputs": [
    {
     "name": "stdout",
     "output_type": "stream",
     "text": [
      "Ich bin A.m\n",
      "\n",
      "Ich bin A.m\n",
      "\n",
      "Ich bin B.mm\n",
      "\n",
      "Ich bin C.m\n",
      "Ich bin A.m\n",
      "\n",
      "Ich bin B.mm\n"
     ]
    }
   ],
   "source": [
    "a.m()\n",
    "print()\n",
    "b.m()\n",
    "print()\n",
    "\n",
    "b.mm()\n",
    "print()\n",
    "c.m()\n",
    "print()\n",
    "\n",
    "c.mm()"
   ]
  },
  {
   "cell_type": "markdown",
   "metadata": {},
   "source": [
    "### c) Die eingebauten Funktionen `isinstance` und `issubclass`\n",
    "Informieren Sie sich über die eingebauten Funktionen [`isinstance`](https://docs.python.org/3/library/functions.html#isinstance) und [`issubclass`](https://docs.python.org/3/library/functions.html#issubclass). Welchen Wahrheitswert erzeugen die folgenden Anweisungen? Erklären Sie in einem kurzen Kommentar."
   ]
  },
  {
   "cell_type": "code",
   "execution_count": 3,
   "metadata": {},
   "outputs": [
    {
     "name": "stdout",
     "output_type": "stream",
     "text": [
      "c is instance of A: True\n",
      "c is instance of C: True\n",
      "b is instance of A: True\n",
      "b is instance of C: False\n",
      "a is instance of (C, B): False\n",
      "A is subclass of C: False\n",
      "C is subclass of A: True\n",
      "B is subclass of B: True\n"
     ]
    }
   ],
   "source": [
    "print(\"c is instance of A:\", isinstance(c, A)) # true\n",
    "print(\"c is instance of C:\", isinstance(c, C)) # true\n",
    "print(\"b is instance of A:\", isinstance(b, A)) # true\n",
    "print(\"b is instance of C:\", isinstance(b, C)) # false\n",
    "print(\"a is instance of (C, B):\", isinstance(a, (C, B))) # false\n",
    "\n",
    "print(\"A is subclass of C:\", issubclass(A, C)) # false\n",
    "print(\"C is subclass of A:\", issubclass(C, A)) # true\n",
    "print(\"B is subclass of B:\", issubclass(B, B)) # true"
   ]
  },
  {
   "cell_type": "markdown",
   "metadata": {},
   "source": [
    "### d) Mehrfachvererbung\n",
    "Es ist in Python möglich, dass eine Klasse direkt von mehreren Basisklassen erbt. Betrachten Sie dazu folgendes Beispiel."
   ]
  },
  {
   "cell_type": "code",
   "execution_count": 4,
   "metadata": {},
   "outputs": [
    {
     "name": "stdout",
     "output_type": "stream",
     "text": [
      "Konstruktor von X\n",
      "z is instance of X: True\n",
      "z is instance of Y: True\n",
      "Hallo\n"
     ]
    },
    {
     "ename": "AttributeError",
     "evalue": "'Z' object has no attribute 'y'",
     "output_type": "error",
     "traceback": [
      "\u001b[0;31m---------------------------------------------------------------------------\u001b[0m",
      "\u001b[0;31mAttributeError\u001b[0m                            Traceback (most recent call last)",
      "\u001b[0;32m/tmp/ipykernel_4417/2868553769.py\u001b[0m in \u001b[0;36m<module>\u001b[0;34m\u001b[0m\n\u001b[1;32m     16\u001b[0m \u001b[0mprint\u001b[0m\u001b[0;34m(\u001b[0m\u001b[0;34m\"z is instance of Y:\"\u001b[0m\u001b[0;34m,\u001b[0m \u001b[0misinstance\u001b[0m\u001b[0;34m(\u001b[0m\u001b[0mz\u001b[0m\u001b[0;34m,\u001b[0m \u001b[0mY\u001b[0m\u001b[0;34m)\u001b[0m\u001b[0;34m)\u001b[0m\u001b[0;34m\u001b[0m\u001b[0;34m\u001b[0m\u001b[0m\n\u001b[1;32m     17\u001b[0m \u001b[0mprint\u001b[0m\u001b[0;34m(\u001b[0m\u001b[0mz\u001b[0m\u001b[0;34m.\u001b[0m\u001b[0mx\u001b[0m\u001b[0;34m)\u001b[0m\u001b[0;34m\u001b[0m\u001b[0;34m\u001b[0m\u001b[0m\n\u001b[0;32m---> 18\u001b[0;31m \u001b[0mprint\u001b[0m\u001b[0;34m(\u001b[0m\u001b[0mz\u001b[0m\u001b[0;34m.\u001b[0m\u001b[0my\u001b[0m\u001b[0;34m)\u001b[0m\u001b[0;34m\u001b[0m\u001b[0;34m\u001b[0m\u001b[0m\n\u001b[0m",
      "\u001b[0;31mAttributeError\u001b[0m: 'Z' object has no attribute 'y'"
     ]
    }
   ],
   "source": [
    "class X:\n",
    "    def __init__(self):\n",
    "        print(\"Konstruktor von X\")\n",
    "        self.x = \"Hallo\"\n",
    "\n",
    "class Y:\n",
    "    def __init__(self):\n",
    "        print(\"Konstruktor von Y\")\n",
    "        self.y = \"Welt\"\n",
    "\n",
    "class Z(X, Y):\n",
    "    pass\n",
    "\n",
    "z = Z()\n",
    "print(\"z is instance of X:\", isinstance(z, X))\n",
    "print(\"z is instance of Y:\", isinstance(z, Y))\n",
    "print(z.x)\n",
    "print(z.y)"
   ]
  },
  {
   "cell_type": "markdown",
   "metadata": {},
   "source": [
    "Führen Sie die Zelle oben aus. Welches Problem erkennen Sie anhand der Ausgabe?\n",
    "\n"
   ]
  },
  {
   "cell_type": "markdown",
   "metadata": {},
   "source": [
    "### e) Expliziter Methoden-Aufruf von Basisklassen\n",
    "Beheben Sie das Problem aus (d), indem Sie nun im Konstruktor von Z die Konstruktoren beider Basisklassen explizit über `Klassename.__init__(self)` aufrufen."
   ]
  },
  {
   "cell_type": "code",
   "execution_count": 6,
   "metadata": {},
   "outputs": [
    {
     "name": "stdout",
     "output_type": "stream",
     "text": [
      "Konstruktor von X\n",
      "Konstruktor von Y\n",
      "z is instance of X: True\n",
      "z is instance of Y: True\n",
      "Hallo\n",
      "Welt\n"
     ]
    }
   ],
   "source": [
    "class Z(X, Y):\n",
    "    # TODO: Hier kommt Ihr Code\n",
    "    def __init__(self):\n",
    "        X.__init__(self)\n",
    "        Y.__init__(self)\n",
    "\n",
    "z = Z()\n",
    "print(\"z is instance of X:\", isinstance(z, X))\n",
    "print(\"z is instance of Y:\", isinstance(z, Y))\n",
    "print(z.x)\n",
    "print(z.y)"
   ]
  },
  {
   "cell_type": "markdown",
   "metadata": {},
   "source": [
    "*Hinweis:  \n",
    "Mehrfachvererbung ist ein fortgeschrittenes Konzept, das Fallstricke mit sich bringt. Wir möchten an dieser Stelle nicht alle Details in der Anwendung von `super` behandeln. Hängen bei Mehrfachvererbung die vererbenden Klassen von einer gemeinsamen Klasse ab (Diamant-Problem) so ist auch obiger Lösungsansatz problematisch, da dann Kontruktoren mehrfach aufgerufen werden. Auch wenn die Python-Spezifikation Mehrfachvererbung zulässt, raten wir generell davon ab. Für Interessierte: [Understanding Python super() with \\_\\_init\\_\\_() methods](https://stackoverflow.com/a/27134600)*\n",
    "\n",
    "### f) (Bonus) Die Basisklasse `type`\n",
    "Der Rückgabewert von `isinstance(A, type)` ist `True`. Was schließen Sie daraus, welche Struktur eine Klasse in Python besitzt?\n",
    "Warum ergeben `isinstance(a, type)` und `issubclass(A, type)` den Wert `False`,\n",
    "obwohl `isinstance(A, type)` als Rückgabe `True` liefert?\n"
   ]
  },
  {
   "cell_type": "markdown",
   "metadata": {},
   "source": [
    "---\n",
    "\n",
    "## Aufgabe 2 (Klassenattribute)\n",
    "In Python ist jede Klasse selbst eine Instanz (siehe Aufgabe 1 f)) und kann deshalb genauso wie jede andere Instanz Attribute besitzen. \n",
    "Es kann über die Instanzen einer Klasse auf die Klassenattribute zugegriffen werden.\n",
    "Dabei haben die Attribute der Instanz beim Zugriff eine höhere Priorität als die Attribute der jeweiligen Klasse.\n",
    "\n",
    "### a) Zugriff auf Klassenattribute\n",
    "Betrachten Sie den folgenden Quellcode. Führen Sie die Zelle aus und erklären Sie die Ausgabe. Fügen Sie hierzu zwischen den einzelnen `print`-Anweisungen geeignete Kommentare ein."
   ]
  },
  {
   "cell_type": "code",
   "execution_count": 7,
   "metadata": {},
   "outputs": [
    {
     "name": "stdout",
     "output_type": "stream",
     "text": [
      "1\n",
      "1 1 1\n",
      "2 1 1\n",
      "2 3 3\n",
      "3 3 3\n"
     ]
    }
   ],
   "source": [
    "# hier wird eine Klasse mit einem Klassenattribut 'x' angelegt, dessen Wert 1 ist.\n",
    "class A:\n",
    "    x = 1\n",
    "    \n",
    "print(A.x)\n",
    "a1, a2 = A(), A()\n",
    "\n",
    "print(a1.x, a2.x, A.x)\n",
    "a1.x = 2\n",
    "print(a1.x, a2.x, A.x)\n",
    "A.x = 3\n",
    "print(a1.x, a2.x, A.x)\n",
    "del a1.x\n",
    "print(a1.x, a2.x, A.x)"
   ]
  },
  {
   "cell_type": "markdown",
   "metadata": {},
   "source": [
    "### b) (Ungewolltes?) Setzen von Klassenattributen\n",
    "Betrachten Sie den folgenden Quellcode und führen Sie ihn aus. Ersetzen Sie anschließend die Zeile `B.__init__(self, y)` durch `B.__init__(B, y)` und erklären Sie die veränderte Ausgabe (durch einen geeigneten Kommentar).\n",
    "        \n",
    "Machen Sie sich den Unterschied zwischen den beiden Varianten klar."
   ]
  },
  {
   "cell_type": "code",
   "execution_count": 10,
   "metadata": {},
   "outputs": [
    {
     "name": "stdout",
     "output_type": "stream",
     "text": [
      "1 42\n"
     ]
    }
   ],
   "source": [
    "class B:\n",
    "    def __init__(self, y):\n",
    "        self.y = y\n",
    "        \n",
    "class C(B):\n",
    "    def __init__(self, y):\n",
    "        B.__init__(self, y)\n",
    "        \n",
    "c1 = C(1)\n",
    "c42 = C(42)\n",
    "print(c1.y, c42.y)"
   ]
  },
  {
   "cell_type": "markdown",
   "metadata": {},
   "source": [
    "---\n",
    "## Aufgabe 3 (Comprehensions)\n",
    "Comprehensions sind kompakte Anweisungen zum Erzeugen von Listen, Dictionaries und Sets durch eine Erzeugungsvorschrift. Sie zeichnen sich durch eine platzsparende und leicht lesbare Syntax aus.  \n",
    "Der Vorteil gegenüber der `map`-Funktion ist, dass keine Funktion übergeben werden muss, sondern aus einem Ausdruck eine Liste/Set/Dictionary generiert werden kann.  \n",
    "Ein Beispiel sind die ersten 20 Zahlen der Dreierreihe:\n",
    "```python\n",
    "dreierreihe = [3*x for x in range(1, 21)]\n",
    "```\n",
    "oder ergänzt durch einen Filter diejenigen unter diesen Zahlen, die nicht durch 2 teilbar sind:\n",
    "```python\n",
    "dreierreihe2 = [3*x for x in range(1, 21) if x%2 != 0]\n",
    "```\n",
    "In gleicher Weise können Mengen erstellt werden, indem die eckigen Klammern durch geschweifte ersetzt werden. Bei Dictionaries muss der Ausdruck ein Schlüssel-Wert-Paar (`k:v`) darstellen.\n",
    "\n",
    "### a) List Comprehension\n",
    "Erzeugen Sie eine Liste mit den Wurzeln der ersten 50 natürlichen Zahlen.  \n",
    "*Hinweis: Die Wurzel einer Zahl `x` erhalten Sie durch `x**0.5` oder [`math.sqrt(x)`](https://docs.python.org/3/library/math.html#math.sqrt).*"
   ]
  },
  {
   "cell_type": "code",
   "execution_count": 12,
   "metadata": {},
   "outputs": [
    {
     "name": "stdout",
     "output_type": "stream",
     "text": [
      "[1.0, 1.4142135623730951, 1.7320508075688772, 2.0, 2.23606797749979, 2.449489742783178, 2.6457513110645907, 2.8284271247461903, 3.0, 3.1622776601683795, 3.3166247903554, 3.4641016151377544, 3.605551275463989, 3.7416573867739413, 3.872983346207417, 4.0, 4.123105625617661, 4.242640687119285, 4.358898943540674, 4.47213595499958, 4.58257569495584, 4.69041575982343, 4.795831523312719, 4.898979485566356, 5.0, 5.0990195135927845, 5.196152422706632, 5.291502622129181, 5.385164807134504, 5.477225575051661, 5.5677643628300215, 5.656854249492381, 5.744562646538029, 5.830951894845301, 5.916079783099616, 6.0, 6.082762530298219, 6.164414002968976, 6.244997998398398, 6.324555320336759, 6.4031242374328485, 6.48074069840786, 6.557438524302, 6.6332495807108, 6.708203932499369, 6.782329983125268, 6.855654600401044, 6.928203230275509, 7.0, 7.0710678118654755]\n"
     ]
    }
   ],
   "source": [
    "import math\n",
    "\n",
    "square_roots = [math.sqrt(x) for x in range(1, 51)]\n",
    "print(square_roots)"
   ]
  },
  {
   "cell_type": "markdown",
   "metadata": {},
   "source": [
    "Erzeugen Sie mit Hilfe einer List-Comprehension eine Liste der Form\n",
    "```python\n",
    "[\"Z\", \"YY\", \"XXX\", \"WWWW\", \"VVVVV\", \"UUUUUU\", ..., \"BBBBBBBBBBBBBBBBBBBBBBBBB\", \"AAAAAAAAAAAAAAAAAAAAAAAAAA\"]\n",
    "```\n",
    "*Hinweis: Verwenden Sie `ord`, `chr` und Stringmultiplikation (`\"Y\" * 2 == \"YY\"`).*"
   ]
  },
  {
   "cell_type": "code",
   "execution_count": 15,
   "metadata": {},
   "outputs": [
    {
     "name": "stdout",
     "output_type": "stream",
     "text": [
      "['Z', 'YY', 'XXX', 'WWWW', 'VVVVV', 'UUUUUU', 'TTTTTTT', 'SSSSSSSS', 'RRRRRRRRR', 'QQQQQQQQQQ', 'PPPPPPPPPPP', 'OOOOOOOOOOOO', 'NNNNNNNNNNNNN', 'MMMMMMMMMMMMMM', 'LLLLLLLLLLLLLLL', 'KKKKKKKKKKKKKKKK', 'JJJJJJJJJJJJJJJJJ', 'IIIIIIIIIIIIIIIIII', 'HHHHHHHHHHHHHHHHHHH', 'GGGGGGGGGGGGGGGGGGGG', 'FFFFFFFFFFFFFFFFFFFFF', 'EEEEEEEEEEEEEEEEEEEEEE', 'DDDDDDDDDDDDDDDDDDDDDDD', 'CCCCCCCCCCCCCCCCCCCCCCCC', 'BBBBBBBBBBBBBBBBBBBBBBBBB', 'AAAAAAAAAAAAAAAAAAAAAAAAAA']\n"
     ]
    }
   ],
   "source": [
    "letters = [i*chr(ord(\"Z\")+1-i) for i in range(1, 27)]\n",
    "\n",
    "print(letters)"
   ]
  },
  {
   "cell_type": "markdown",
   "metadata": {},
   "source": [
    "### b) Set Comprehension\n",
    "Erstellen Sie mit einer **Set-Comprehension** eine **Menge**, die alle Großbuchstaben des angegebenen Strings beinhaltet."
   ]
  },
  {
   "cell_type": "code",
   "execution_count": 20,
   "metadata": {},
   "outputs": [
    {
     "name": "stdout",
     "output_type": "stream",
     "text": [
      "{'D', 'G', 'W', 'M', 'J', 'C', 'B', 'A', 'R'}\n"
     ]
    }
   ],
   "source": [
    "t = \"\"\"Wenn man diese Aufgabe richtig gelöst hat, \n",
    "dann enthält die Menge nach dem Ausführen des Codes die Großbuchstaben: M, D, A, B, J, W, C, R und G. \n",
    "Jeder dieser Buchstaben kommt genau einmal vor, denn in Mengen kommen keine Duplikate vor.\n",
    "Die Reihenfolge spielt keine Rolle, da Mengen nicht geordnet sind.\"\"\"\n",
    "\n",
    "capitals = { s for s in t if s.upper() == s and s.isalpha() }\n",
    "\n",
    "print(capitals)"
   ]
  },
  {
   "cell_type": "markdown",
   "metadata": {},
   "source": [
    "### c) Dictionary Comprehension\n",
    "Erzeugen Sie ein **Dictionary** mit Schlüsseln $i\\in \\{5,\\dots,35\\}$ und den zugehörigen Quadratzahlen als Werte durch eine **Dictionary-Comprehension**."
   ]
  },
  {
   "cell_type": "code",
   "execution_count": 22,
   "metadata": {},
   "outputs": [
    {
     "name": "stdout",
     "output_type": "stream",
     "text": [
      "{5: 25, 6: 36, 7: 49, 8: 64, 9: 81, 10: 100, 11: 121, 12: 144, 13: 169, 14: 196, 15: 225, 16: 256, 17: 289, 18: 324, 19: 361, 20: 400, 21: 441, 22: 484, 23: 529, 24: 576, 25: 625, 26: 676, 27: 729, 28: 784, 29: 841, 30: 900, 31: 961, 32: 1024, 33: 1089, 34: 1156, 35: 1225}\n"
     ]
    }
   ],
   "source": [
    "square_dict = { x:x**2 for x in range(5,36) }\n",
    "print(square_dict)"
   ]
  },
  {
   "cell_type": "markdown",
   "metadata": {},
   "source": [
    "### d) (Bonus) Komplexere Beispiele\n",
    "Was steht in den folgenden Listen/Set? Formulieren Sie zunächst eine Vermutung bevor Sie den Code mit Python ausführen.  \n",
    "Erklären Sie die Comprehensions."
   ]
  },
  {
   "cell_type": "code",
   "execution_count": 23,
   "metadata": {},
   "outputs": [
    {
     "name": "stdout",
     "output_type": "stream",
     "text": [
      "[(2, 3), (2, 4), (2, 5), (2, 6), (2, 7), (2, 8), (3, 3), (3, 4), (3, 5), (3, 6), (3, 7), (3, 8), (4, 3), (4, 4), (4, 5), (4, 6), (4, 7), (4, 8), (5, 3), (5, 4), (5, 5), (5, 6), (5, 7), (5, 8), (6, 3), (6, 4), (6, 5), (6, 6), (6, 7), (6, 8), (7, 3), (7, 4), (7, 5), (7, 6), (7, 7), (7, 8)]\n"
     ]
    }
   ],
   "source": [
    "lst = [(i, j) for i in range(2, 8) for j in range(3, 9)]\n",
    "print(lst)"
   ]
  },
  {
   "cell_type": "code",
   "execution_count": 24,
   "metadata": {},
   "outputs": [
    {
     "name": "stdout",
     "output_type": "stream",
     "text": [
      "[2, 3, 5, 7, 11, 13, 17, 19, 23, 29, 31, 37, 41, 43, 47, 53, 59, 61, 67, 71, 73, 79, 83, 89, 97]\n"
     ]
    }
   ],
   "source": [
    "hilfliste = {j for i in range(2, 8) for j in range(i*2, 100, i)}\n",
    "liste = [x for x in range(2, 100) if x not in hilfliste]\n",
    "print(liste)\n",
    "\n"
   ]
  },
  {
   "cell_type": "markdown",
   "metadata": {},
   "source": [
    "\n",
    "*Hinweis: Die Syntax für Comprehensions ist ähnlich zu einer häufig verwendeten Schreibweise für Mengen in der Mathematik. Beispielsweise kann die Menge mit den Elementen der Liste `dreiereihe2` aus dem Aufgabentext folgendermaßen beschrieben werden:*\n",
    "\n",
    "$$\\big\\{3x:\\; x\\in\\{1,\\dots,20\\} \\text{ und x nicht durch 2 teilbar}\\big\\}$$\n",
    "\n",
    "---"
   ]
  },
  {
   "cell_type": "markdown",
   "metadata": {},
   "source": [
    "## Aufgabe 4 (Factory-Funktionen)\n",
    "Eine Funktion, deren Rückgabewert ein Funktionsobjekt ist, wird auch Factory-Funktion genannt.\n",
    "\n",
    "### a) Gespeicherter Funktionszustand\n",
    "Betrachten Sie das folgende Beispiel und überlegen Sie sich, aus welchem Namensraum die Referenz `basis` jeweils kommt.  \n",
    "Finden Sie eine Erklärung, in welcher Form die Referenz `basis` überlebt."
   ]
  },
  {
   "cell_type": "code",
   "execution_count": 25,
   "metadata": {},
   "outputs": [
    {
     "name": "stdout",
     "output_type": "stream",
     "text": [
      "0 1 1\n",
      "1 3 10\n",
      "2 9 100\n",
      "3 27 1000\n",
      "4 81 10000\n",
      "5 243 100000\n",
      "6 729 1000000\n",
      "7 2187 10000000\n",
      "8 6561 100000000\n",
      "9 19683 1000000000\n"
     ]
    }
   ],
   "source": [
    "def potenz_factory(basis):\n",
    "    def f(exponent):\n",
    "        return basis**exponent\n",
    "    return f\n",
    "    \n",
    "p3 = potenz_factory(3)\n",
    "p10 = potenz_factory(10)\n",
    "for i in range(10):\n",
    "    print(i, p3(i), p10(i))"
   ]
  },
  {
   "cell_type": "markdown",
   "metadata": {},
   "source": []
  },
  {
   "cell_type": "markdown",
   "metadata": {},
   "source": [
    "### b) Caching\n",
    "Verwenden Sie eine ähnliche Konstruktion wie in (a), um eine Funktion `cached_call(f, n)` zu schreiben, die eine weitere Funktion mit derselben Schnittstelle wie die übergebene Funktion `f` zurückgibt. Zusätzlich zur Funktionalität von `f` soll diese Funktion sich die letzten $n$ Argument-Werte-Paare merken, und - falls vorhanden - einen zwischengespeicherten Wert zurückgeben.\n",
    "\n",
    "*Hinweis: Der Datentyp [`OrderedDict`](https://docs.python.org/3/library/collections.html?highlight=ordereddict#collections.OrderedDict) im Modul `collections` ist hilfreich.*"
   ]
  },
  {
   "cell_type": "code",
   "execution_count": 47,
   "metadata": {},
   "outputs": [
    {
     "name": "stdout",
     "output_type": "stream",
     "text": [
      "Starting calculation...\n",
      "1\n",
      "4\n",
      "1\n",
      "4\n",
      "9\n",
      "4\n",
      "1\n"
     ]
    }
   ],
   "source": [
    "from collections import OrderedDict\n",
    "import time\n",
    "\n",
    "def cached_call(f, n):\n",
    "    cache = OrderedDict()\n",
    "    def cached_f(x):\n",
    "        if not x in cache.keys():\n",
    "            cache.update({x: f(x)})\n",
    "            cache.move_to_end(x)\n",
    "        if len(cache) > n:\n",
    "            cache.popitem(0)\n",
    "        return cache[x]\n",
    "    return cached_f\n",
    "\n",
    "def square_with_delay(x):\n",
    "    time.sleep(2)\n",
    "    return x**2\n",
    "\n",
    "cached_square = cached_call(square_with_delay, 2)\n",
    "\n",
    "print(\"Starting calculation...\")\n",
    "print(cached_square(1))\n",
    "print(cached_square(2))\n",
    "print(cached_square(1))\n",
    "print(cached_square(2))\n",
    "print(cached_square(3))\n",
    "print(cached_square(2))\n",
    "print(cached_square(1))"
   ]
  },
  {
   "cell_type": "markdown",
   "metadata": {},
   "source": [
    "### c) Caching bei rekursiven Funktionen\n",
    "Schreiben Sie eine rekursive Funktion `fib(n)` zur Berechnung der ersten $n$ Fibonacci-Zahlen und vergleichen Sie die Laufzeiten der originalen Funktion mit der Version, die sich die letzten $10$ Werte merkt, für die Argumente $10, 20, 30$ und $35$.\n",
    "\n",
    "*Hinweis: Zum Messen der Laufzeiten können Sie time.perf_counter() verwenden.*\n",
    "```python\n",
    "import time\n",
    "\n",
    "start = time.perf_counter()\n",
    "f() # Code, dessen Laufzeit gemessen werden soll\n",
    "print(\"Ausführung von f hat {:.5f}s gedauert\".format(time.perf_counter() - start))\n",
    "```"
   ]
  },
  {
   "cell_type": "code",
   "execution_count": 55,
   "metadata": {},
   "outputs": [
    {
     "name": "stdout",
     "output_type": "stream",
     "text": [
      "recursive fib(10): 55\n",
      "Took 0.00003s\n",
      "cached fib(10): 55\n",
      "Took 0.00005s\n",
      "recursive fib(20): 6765\n",
      "Took 0.00075s\n",
      "cached fib(20): 6765\n",
      "Took 0.00001s\n",
      "recursive fib(30): 832040\n",
      "Took 0.08909s\n",
      "cached fib(30): 832040\n",
      "Took 0.00002s\n",
      "recursive fib(37): 24157817\n",
      "Took 2.44899s\n",
      "cached fib(37): 24157817\n",
      "Took 0.00002s\n"
     ]
    }
   ],
   "source": [
    "import time\n",
    "\n",
    "def fib(n):\n",
    "    return 1 if n == 1 or n == 2 else fib(n-1)+fib(n-2)\n",
    "\n",
    "cached_fib = cached_call(lambda x: 1 if x == 1 or x == 2 else cached_fib(x-1) + cached_fib(x-2), 10)\n",
    "\n",
    "def compare(arg):\n",
    "    start1 = time.perf_counter()\n",
    "    print(f\"recursive fib({arg}): {fib(arg)}\")\n",
    "    print(\"Took {:.5f}s\".format(time.perf_counter()-start1))\n",
    "    \n",
    "    start2 = time.perf_counter()\n",
    "    print(f\"cached fib({arg}): {cached_fib(arg)}\")\n",
    "    print(\"Took {:.5f}s\".format(time.perf_counter()-start2))\n",
    "\n",
    "compare(10)\n",
    "compare(20)\n",
    "compare(30)\n",
    "compare(37)"
   ]
  },
  {
   "cell_type": "markdown",
   "metadata": {},
   "source": [
    "Überlegen Sie sich, welcher wesentliche Unterschied zwischen den beiden folgenden Programmen besteht.\n",
    "```python\n",
    "fib2 = cached_call(fib, 10)\n",
    "fib2(20)\n",
    "```\n",
    "vs.\n",
    "```python\n",
    "fib = cached_call(fib, 10)\n",
    "fib(20)\n",
    "```\n",
    "\n"
   ]
  },
  {
   "cell_type": "code",
   "execution_count": 0,
   "metadata": {},
   "outputs": [],
   "source": []
  }
 ],
 "metadata": {
  "kernelspec": {
   "display_name": "Python 3 (ipykernel)",
   "language": "python",
   "name": "python3"
  },
  "language_info": {
   "codemirror_mode": {
    "name": "ipython",
    "version": 3
   },
   "file_extension": ".py",
   "mimetype": "text/x-python",
   "name": "python",
   "nbconvert_exporter": "python",
   "pygments_lexer": "ipython3",
   "version": "3.10.12"
  },
  "varInspector": {
   "cols": {
    "lenName": 16,
    "lenType": 16,
    "lenVar": 40
   },
   "kernels_config": {
    "python": {
     "delete_cmd_postfix": "",
     "delete_cmd_prefix": "del ",
     "library": "var_list.py",
     "varRefreshCmd": "print(var_dic_list())"
    },
    "r": {
     "delete_cmd_postfix": ") ",
     "delete_cmd_prefix": "rm(",
     "library": "var_list.r",
     "varRefreshCmd": "cat(var_dic_list()) "
    }
   },
   "types_to_exclude": [
    "module",
    "function",
    "builtin_function_or_method",
    "instance",
    "_Feature"
   ],
   "window_display": false
  }
 },
 "nbformat": 4,
 "nbformat_minor": 2
}
