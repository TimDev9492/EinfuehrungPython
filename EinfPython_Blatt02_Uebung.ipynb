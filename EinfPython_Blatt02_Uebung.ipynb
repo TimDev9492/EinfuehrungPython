{
 "cells": [
  {
   "cell_type": "markdown",
   "metadata": {},
   "source": [
    "# Einführung in Python - Übungsblatt 2\n",
    "\n",
    "<img src=\"https://imgur.com/csPsMyi.png\" alt=\"\" width=500 border=\"0\" />"
   ]
  },
  {
   "cell_type": "markdown",
   "metadata": {},
   "source": [
    "## Aufgabe 1 (Sequenzielle Datentypen, Slicing)\n",
    ">Python kennt eine Reihe von *sequentiellen Datentypen*, die sich dadurch auszeichnen, dass sie eine geordnete Folge von ggf. verschiedenartigen Instanzen verwalten können. Beispiele für solche Sequenzen sind Strings und Listen.\n",
    "\n",
    "### a) Zugriff mit Indices\n",
    "Beispiel einer Liste, die 10 Strings enthält\n",
    "\n",
    "Liste =          | [ \"e1\", | \"e2\", | \"e3\", | \"e4\", | \"e5\", | \"e6\", | \"e7\", | \"e8\", | \"e9\", | \"e10\"]\n",
    ":--------------: | :-----: | :---: | :---: | :---: | :---: | :---: | :---: | :---: | :---: | :---: \n",
    "positive Indizes | 0       | 1     | 2     | 3     | 4     | 5     | 6     | 7     | 8     | 9\n",
    "negative Indices | -10     | -9    | -8    | -7    | -6    | -5    | -4    | -3    | -2    | -1\n",
    "\n",
    "Erzeugen Sie eine Liste `lst`, welche die Zahlen von `0` bis `9` enthält. Vollziehen Sie den Zugriff mit Indices gemäß zur Tabelle nach, indem Sie die folgenden Zugriffe testen.\n",
    "\n",
    "* `lst[1]`\n",
    "* `lst[-1]`\n",
    "* `lst[-len(lst)]`\n",
    "* `lst[11]`"
   ]
  },
  {
   "cell_type": "code",
   "execution_count": 4,
   "metadata": {
    "scrolled": true
   },
   "outputs": [],
   "source": [
    "lst = [0, 1, 2, 3, 4, 5, 6, 7, 8, 9]"
   ]
  },
  {
   "cell_type": "markdown",
   "metadata": {},
   "source": [
    "### b) Slicing sequenzieller Datentypen\n",
    "Die Art des Zugriffs `lst[3:7:2]` auf Teile einer Sequenz wird *Slicing* genannt. Das erste Argument steht für den Startindex (inklusiv), das zweite für den Endindex (exklusiv) und das dritte für die Schrittweite.  \n",
    "Die Syntax ist also: **`lst[start:stop:step]`**.  \n",
    "Negative Werte von start oder end, wie z.B. `start=-a` (wobei `a` positiv ist), entsprechen dann jeweils `start=len(lst)-a`.  \n",
    "Also ist z.B.: `lst[-3:-2] = lst[len(lst)-3:len(lst)-2] = lst[7:8]`, mit `lst` von Teil a).\n",
    "\n",
    "Stellen Sie zunächst eine Vermutung auf, welcher Teil der Liste in den folgenden Anweisungen jeweils ausgegeben wird, und überprüfen Sie diese Vermutung.\n",
    "\n",
    "* `lst[2:5]`\n",
    "* `lst[2:-3]`\n",
    "* `lst[2:7:2]`\n",
    "* `lst[7:2]`\n",
    "* `lst[7:2:-1]`\n",
    "* `lst[7:2:-3]`\n",
    "* `lst[-2:-3]`\n",
    "* `lst[-5:-3]`"
   ]
  },
  {
   "cell_type": "code",
   "execution_count": 5,
   "metadata": {
    "scrolled": true
   },
   "outputs": [
    {
     "data": {
      "text/plain": [
       "[5, 6]"
      ]
     },
     "execution_count": 5,
     "metadata": {},
     "output_type": "execute_result"
    }
   ],
   "source": [
    "lst[-5:-3]"
   ]
  },
  {
   "cell_type": "markdown",
   "metadata": {},
   "source": [
    "*Bemerkung:  \n",
    "Auch auf Strings als sequenzieller Datentyp sind alle Slicing-Operationen möglich. Z.B. liefert `\"Python ist toll\"[1:-3:2]` den Ausschnitt `yhnitt`.*\n",
    "\n",
    "*Nice to know:  \n",
    "Beim Slicing wird der angegebene Listenausschnitt kopiert, d.h. Änderungen an diesem, wie z.B. `lst[2:5][0] = 42`, verändern die ursprüngliche Liste `lst` nicht.  \n",
    "Sie können Slices auch mit der Funktion `slice` erzeugen, z.B. ist `lst[slice(2, 5, 3)]` äquivalent zu `lst[2:5:3]`.*"
   ]
  },
  {
   "cell_type": "markdown",
   "metadata": {},
   "source": [
    "### c) Optionale Parameter beim Slicing\n",
    "Alle drei Parameter beim Slicing sind optional und werden ggf. mit Standardwerten belegt. Testen Sie z.B. die Eingaben\n",
    "* `lst[::2]`\n",
    "* `lst[:6:2]`\n",
    "* `lst[2::3]`"
   ]
  },
  {
   "cell_type": "code",
   "execution_count": 7,
   "metadata": {},
   "outputs": [
    {
     "data": {
      "text/plain": [
       "[0, 2, 4, 6, 8]"
      ]
     },
     "execution_count": 7,
     "metadata": {},
     "output_type": "execute_result"
    }
   ],
   "source": [
    "lst[::2]"
   ]
  },
  {
   "cell_type": "markdown",
   "metadata": {},
   "source": [
    "\n",
    "---\n",
    "\n",
    "## Aufgabe 2 (Daten testen)\n",
    "Wir wollen ein Programm schreiben, das vom Benutzer ein Datum einliest und prüft,\n",
    "ob es sich um ein gültiges Datum handelt. Das Format der Eingabe sei dabei\n",
    "<span style=\"color:magenta\">**\"DD. M...M JJJJ\"**</span>, wobei **DD** für den Tag im Monat, **M...M** für die deutsche Bezeichnung des Monats und **JJJJ** für das Jahr inklusive des Jahrhunderts steht. Beispielsweise\n",
    "ist <span style=\"color:magenta\">**\"03. Oktober 1990\"**</span> eine gültige Eingabe.\n",
    "\n",
    "*Hinweis:  \n",
    "Ihr Programm darf voraussetzen, dass sich der Benutzer an das obige Format <span style=\"color:magenta\">**\"DD. M...M JJJJ\"**</span> hält.* \n",
    "\n",
    "### a) Einlesen und extrahieren von Daten aus einem String\n",
    "Lesen Sie zunächst mit der Funktion `input` ein Datum vom Benutzer ein. Extrahieren Sie durch geschicktes Slicing den Tag, den Monat und das Jahr der Eingabe."
   ]
  },
  {
   "cell_type": "code",
   "execution_count": 15,
   "metadata": {},
   "outputs": [
    {
     "name": "stdout",
     "output_type": "stream",
     "text": [
      "Geben Sie ein Datum ein!29. Februar 2004\n",
      "29. Februar 2004\n"
     ]
    }
   ],
   "source": [
    "date_str = input(\"Geben Sie ein Datum ein!\")\n",
    "day = date_str[0:2:]\n",
    "month = date_str[4:-5:]\n",
    "year = date_str[-4::]\n",
    "\n",
    "processed_date = f\"{day}. {month} {year}\"\n",
    "print(processed_date)"
   ]
  },
  {
   "cell_type": "markdown",
   "metadata": {},
   "source": [
    "### b) Gültigkeitsprüfung der extrahierten Daten\n",
    "Prüfen Sie nun die extrahierten Daten aus a) auf Gültigkeit:\n",
    "\n",
    "Prüfen Sie mithilfe der Liste `months`, ob es sich um einen gültigen Monat handelt.\n",
    "\n",
    "Prüfen Sie anschließend auch, ob der Tag gültig ist. Verwenden Sie dabei die Liste `days_per_month`, welche für jeden Monat die Anzahl an Tagen liefert.\n",
    "Für den Spezialfall Februar beachten Sie außerdem Schaltjahre. Hierfür ist eine Funktion `is_leap_year` bereits gegeben, die für das Integer-Argument überprüft, ob es sich um ein Schaltjahr handelt.\n",
    "\n",
    "Beispiel:  \n",
    "<span style=\"color:magenta\">**\"29. Februar 1900\"**</span> ist nicht gültig.  \n",
    "<span style=\"color:magenta\">**\"29. Februar 2000\"**</span> ist gültig.\n",
    "\n",
    "*Hinweis:  \n",
    "Denken Sie daran, dass Sie gegebenenfalls noch Typ-Umwandlungen durchführen müssen.*  \n",
    "**Außerdem könnte sich die Funktion [list.index](https://docs.python.org/3/tutorial/datastructures.html#more-on-lists) als hilfreich erweisen.**"
   ]
  },
  {
   "cell_type": "code",
   "execution_count": 17,
   "metadata": {},
   "outputs": [
    {
     "data": {
      "text/plain": [
       "True"
      ]
     },
     "execution_count": 17,
     "metadata": {},
     "output_type": "execute_result"
    }
   ],
   "source": [
    "months = [\n",
    "    \"Januar\", \"Februar\", \"März\", \"April\",\n",
    "    \"Mai\", \"Juni\", \"Juli\", \"August\",\n",
    "    \"September\", \"Oktober\", \"November\", \"Dezember\"\n",
    "    ]\n",
    "days_per_month = [31, 28, 31, 30, 31, 30, 31, 31, 30, 31, 30, 31]\n",
    "\n",
    "def is_leap_year(year):\n",
    "    '''\n",
    "    Ein Jahr X ist ein Schaltjahr, falls X durch 4, aber nicht durch 100 teilbar ist,\n",
    "    oder falls X durch 400 teilbar ist.\n",
    "    '''\n",
    "    return year % 4 == 0 and (year % 100 != 0 or year % 400 == 0)\n",
    "\n",
    "valid_date = True\n",
    "\n",
    "if not month in months:\n",
    "    valid_date = False\n",
    "elif month == \"Februar\" and int(day) == 29:\n",
    "    valid_date = is_leap_year(int(year))\n",
    "elif int(day) > days_per_month[months.index(month)]:\n",
    "    valid_date = False\n",
    "    \n",
    "valid_date"
   ]
  },
  {
   "cell_type": "markdown",
   "metadata": {},
   "source": [
    "---\n",
    "\n",
    "## Aufgabe 3 (fizz buzz palin)\n",
    "\n",
    "### a) Kontrollstrukturen und Modulus\n",
    "Schreiben Sie ein Programm, welches das Fizz-Buzz-Spiel bis zur Zahl 1000 löst. \n",
    "Das heißt, Ihr Programm erstellt eine Liste für alle Zahlen zwischen 1 und 1000 \n",
    "und ersetzt die Zahlen, welche durch 3 teilbar sind mit dem String `\"Fizz\"` und \n",
    "die Zahlen, welche durch 5 teilbar sind durch `\"Buzz\"` und die Zahlen, \n",
    "welche durch 5 und 3 teilbar sind durch `\"Fizz Buzz\"`.\n",
    "\n",
    "Beispiel: Die ersten 15 Elemente Ihrer Liste lauten:\n",
    "\n",
    "`1, 2, \"Fizz\", 4, \"Buzz\", \"Fizz\", 7, 8, \"Fizz\", \"Buzz\", 11, \"Fizz\", 13, 14, \"Fizz Buzz\"`"
   ]
  },
  {
   "cell_type": "code",
   "execution_count": 18,
   "metadata": {},
   "outputs": [
    {
     "name": "stdout",
     "output_type": "stream",
     "text": [
      "[1, 2, 'Fizz', 4, 'Buzz', 'Fizz', 7, 8, 'Fizz', 'Buzz', 11, 'Fizz', 13, 14, 'FizzBuzz', 16, 17, 'Fizz', 19, 'Buzz', 'Fizz', 22, 23, 'Fizz', 'Buzz', 26, 'Fizz', 28, 29, 'FizzBuzz', 31, 32, 'Fizz', 34, 'Buzz', 'Fizz', 37, 38, 'Fizz', 'Buzz', 41, 'Fizz', 43, 44, 'FizzBuzz', 46, 47, 'Fizz', 49, 'Buzz', 'Fizz', 52, 53, 'Fizz', 'Buzz', 56, 'Fizz', 58, 59, 'FizzBuzz', 61, 62, 'Fizz', 64, 'Buzz', 'Fizz', 67, 68, 'Fizz', 'Buzz', 71, 'Fizz', 73, 74, 'FizzBuzz', 76, 77, 'Fizz', 79, 'Buzz', 'Fizz', 82, 83, 'Fizz', 'Buzz', 86, 'Fizz', 88, 89, 'FizzBuzz', 91, 92, 'Fizz', 94, 'Buzz', 'Fizz', 97, 98, 'Fizz', 'Buzz', 101, 'Fizz', 103, 104, 'FizzBuzz', 106, 107, 'Fizz', 109, 'Buzz', 'Fizz', 112, 113, 'Fizz', 'Buzz', 116, 'Fizz', 118, 119, 'FizzBuzz', 121, 122, 'Fizz', 124, 'Buzz', 'Fizz', 127, 128, 'Fizz', 'Buzz', 131, 'Fizz', 133, 134, 'FizzBuzz', 136, 137, 'Fizz', 139, 'Buzz', 'Fizz', 142, 143, 'Fizz', 'Buzz', 146, 'Fizz', 148, 149, 'FizzBuzz', 151, 152, 'Fizz', 154, 'Buzz', 'Fizz', 157, 158, 'Fizz', 'Buzz', 161, 'Fizz', 163, 164, 'FizzBuzz', 166, 167, 'Fizz', 169, 'Buzz', 'Fizz', 172, 173, 'Fizz', 'Buzz', 176, 'Fizz', 178, 179, 'FizzBuzz', 181, 182, 'Fizz', 184, 'Buzz', 'Fizz', 187, 188, 'Fizz', 'Buzz', 191, 'Fizz', 193, 194, 'FizzBuzz', 196, 197, 'Fizz', 199, 'Buzz', 'Fizz', 202, 203, 'Fizz', 'Buzz', 206, 'Fizz', 208, 209, 'FizzBuzz', 211, 212, 'Fizz', 214, 'Buzz', 'Fizz', 217, 218, 'Fizz', 'Buzz', 221, 'Fizz', 223, 224, 'FizzBuzz', 226, 227, 'Fizz', 229, 'Buzz', 'Fizz', 232, 233, 'Fizz', 'Buzz', 236, 'Fizz', 238, 239, 'FizzBuzz', 241, 242, 'Fizz', 244, 'Buzz', 'Fizz', 247, 248, 'Fizz', 'Buzz', 251, 'Fizz', 253, 254, 'FizzBuzz', 256, 257, 'Fizz', 259, 'Buzz', 'Fizz', 262, 263, 'Fizz', 'Buzz', 266, 'Fizz', 268, 269, 'FizzBuzz', 271, 272, 'Fizz', 274, 'Buzz', 'Fizz', 277, 278, 'Fizz', 'Buzz', 281, 'Fizz', 283, 284, 'FizzBuzz', 286, 287, 'Fizz', 289, 'Buzz', 'Fizz', 292, 293, 'Fizz', 'Buzz', 296, 'Fizz', 298, 299, 'FizzBuzz', 301, 302, 'Fizz', 304, 'Buzz', 'Fizz', 307, 308, 'Fizz', 'Buzz', 311, 'Fizz', 313, 314, 'FizzBuzz', 316, 317, 'Fizz', 319, 'Buzz', 'Fizz', 322, 323, 'Fizz', 'Buzz', 326, 'Fizz', 328, 329, 'FizzBuzz', 331, 332, 'Fizz', 334, 'Buzz', 'Fizz', 337, 338, 'Fizz', 'Buzz', 341, 'Fizz', 343, 344, 'FizzBuzz', 346, 347, 'Fizz', 349, 'Buzz', 'Fizz', 352, 353, 'Fizz', 'Buzz', 356, 'Fizz', 358, 359, 'FizzBuzz', 361, 362, 'Fizz', 364, 'Buzz', 'Fizz', 367, 368, 'Fizz', 'Buzz', 371, 'Fizz', 373, 374, 'FizzBuzz', 376, 377, 'Fizz', 379, 'Buzz', 'Fizz', 382, 383, 'Fizz', 'Buzz', 386, 'Fizz', 388, 389, 'FizzBuzz', 391, 392, 'Fizz', 394, 'Buzz', 'Fizz', 397, 398, 'Fizz', 'Buzz', 401, 'Fizz', 403, 404, 'FizzBuzz', 406, 407, 'Fizz', 409, 'Buzz', 'Fizz', 412, 413, 'Fizz', 'Buzz', 416, 'Fizz', 418, 419, 'FizzBuzz', 421, 422, 'Fizz', 424, 'Buzz', 'Fizz', 427, 428, 'Fizz', 'Buzz', 431, 'Fizz', 433, 434, 'FizzBuzz', 436, 437, 'Fizz', 439, 'Buzz', 'Fizz', 442, 443, 'Fizz', 'Buzz', 446, 'Fizz', 448, 449, 'FizzBuzz', 451, 452, 'Fizz', 454, 'Buzz', 'Fizz', 457, 458, 'Fizz', 'Buzz', 461, 'Fizz', 463, 464, 'FizzBuzz', 466, 467, 'Fizz', 469, 'Buzz', 'Fizz', 472, 473, 'Fizz', 'Buzz', 476, 'Fizz', 478, 479, 'FizzBuzz', 481, 482, 'Fizz', 484, 'Buzz', 'Fizz', 487, 488, 'Fizz', 'Buzz', 491, 'Fizz', 493, 494, 'FizzBuzz', 496, 497, 'Fizz', 499, 'Buzz', 'Fizz', 502, 503, 'Fizz', 'Buzz', 506, 'Fizz', 508, 509, 'FizzBuzz', 511, 512, 'Fizz', 514, 'Buzz', 'Fizz', 517, 518, 'Fizz', 'Buzz', 521, 'Fizz', 523, 524, 'FizzBuzz', 526, 527, 'Fizz', 529, 'Buzz', 'Fizz', 532, 533, 'Fizz', 'Buzz', 536, 'Fizz', 538, 539, 'FizzBuzz', 541, 542, 'Fizz', 544, 'Buzz', 'Fizz', 547, 548, 'Fizz', 'Buzz', 551, 'Fizz', 553, 554, 'FizzBuzz', 556, 557, 'Fizz', 559, 'Buzz', 'Fizz', 562, 563, 'Fizz', 'Buzz', 566, 'Fizz', 568, 569, 'FizzBuzz', 571, 572, 'Fizz', 574, 'Buzz', 'Fizz', 577, 578, 'Fizz', 'Buzz', 581, 'Fizz', 583, 584, 'FizzBuzz', 586, 587, 'Fizz', 589, 'Buzz', 'Fizz', 592, 593, 'Fizz', 'Buzz', 596, 'Fizz', 598, 599, 'FizzBuzz', 601, 602, 'Fizz', 604, 'Buzz', 'Fizz', 607, 608, 'Fizz', 'Buzz', 611, 'Fizz', 613, 614, 'FizzBuzz', 616, 617, 'Fizz', 619, 'Buzz', 'Fizz', 622, 623, 'Fizz', 'Buzz', 626, 'Fizz', 628, 629, 'FizzBuzz', 631, 632, 'Fizz', 634, 'Buzz', 'Fizz', 637, 638, 'Fizz', 'Buzz', 641, 'Fizz', 643, 644, 'FizzBuzz', 646, 647, 'Fizz', 649, 'Buzz', 'Fizz', 652, 653, 'Fizz', 'Buzz', 656, 'Fizz', 658, 659, 'FizzBuzz', 661, 662, 'Fizz', 664, 'Buzz', 'Fizz', 667, 668, 'Fizz', 'Buzz', 671, 'Fizz', 673, 674, 'FizzBuzz', 676, 677, 'Fizz', 679, 'Buzz', 'Fizz', 682, 683, 'Fizz', 'Buzz', 686, 'Fizz', 688, 689, 'FizzBuzz', 691, 692, 'Fizz', 694, 'Buzz', 'Fizz', 697, 698, 'Fizz', 'Buzz', 701, 'Fizz', 703, 704, 'FizzBuzz', 706, 707, 'Fizz', 709, 'Buzz', 'Fizz', 712, 713, 'Fizz', 'Buzz', 716, 'Fizz', 718, 719, 'FizzBuzz', 721, 722, 'Fizz', 724, 'Buzz', 'Fizz', 727, 728, 'Fizz', 'Buzz', 731, 'Fizz', 733, 734, 'FizzBuzz', 736, 737, 'Fizz', 739, 'Buzz', 'Fizz', 742, 743, 'Fizz', 'Buzz', 746, 'Fizz', 748, 749, 'FizzBuzz', 751, 752, 'Fizz', 754, 'Buzz', 'Fizz', 757, 758, 'Fizz', 'Buzz', 761, 'Fizz', 763, 764, 'FizzBuzz', 766, 767, 'Fizz', 769, 'Buzz', 'Fizz', 772, 773, 'Fizz', 'Buzz', 776, 'Fizz', 778, 779, 'FizzBuzz', 781, 782, 'Fizz', 784, 'Buzz', 'Fizz', 787, 788, 'Fizz', 'Buzz', 791, 'Fizz', 793, 794, 'FizzBuzz', 796, 797, 'Fizz', 799, 'Buzz', 'Fizz', 802, 803, 'Fizz', 'Buzz', 806, 'Fizz', 808, 809, 'FizzBuzz', 811, 812, 'Fizz', 814, 'Buzz', 'Fizz', 817, 818, 'Fizz', 'Buzz', 821, 'Fizz', 823, 824, 'FizzBuzz', 826, 827, 'Fizz', 829, 'Buzz', 'Fizz', 832, 833, 'Fizz', 'Buzz', 836, 'Fizz', 838, 839, 'FizzBuzz', 841, 842, 'Fizz', 844, 'Buzz', 'Fizz', 847, 848, 'Fizz', 'Buzz', 851, 'Fizz', 853, 854, 'FizzBuzz', 856, 857, 'Fizz', 859, 'Buzz', 'Fizz', 862, 863, 'Fizz', 'Buzz', 866, 'Fizz', 868, 869, 'FizzBuzz', 871, 872, 'Fizz', 874, 'Buzz', 'Fizz', 877, 878, 'Fizz', 'Buzz', 881, 'Fizz', 883, 884, 'FizzBuzz', 886, 887, 'Fizz', 889, 'Buzz', 'Fizz', 892, 893, 'Fizz', 'Buzz', 896, 'Fizz', 898, 899, 'FizzBuzz', 901, 902, 'Fizz', 904, 'Buzz', 'Fizz', 907, 908, 'Fizz', 'Buzz', 911, 'Fizz', 913, 914, 'FizzBuzz', 916, 917, 'Fizz', 919, 'Buzz', 'Fizz', 922, 923, 'Fizz', 'Buzz', 926, 'Fizz', 928, 929, 'FizzBuzz', 931, 932, 'Fizz', 934, 'Buzz', 'Fizz', 937, 938, 'Fizz', 'Buzz', 941, 'Fizz', 943, 944, 'FizzBuzz', 946, 947, 'Fizz', 949, 'Buzz', 'Fizz', 952, 953, 'Fizz', 'Buzz', 956, 'Fizz', 958, 959, 'FizzBuzz', 961, 962, 'Fizz', 964, 'Buzz', 'Fizz', 967, 968, 'Fizz', 'Buzz', 971, 'Fizz', 973, 974, 'FizzBuzz', 976, 977, 'Fizz', 979, 'Buzz', 'Fizz', 982, 983, 'Fizz', 'Buzz', 986, 'Fizz', 988, 989, 'FizzBuzz', 991, 992, 'Fizz', 994, 'Buzz', 'Fizz', 997, 998, 'Fizz', 'Buzz']\n"
     ]
    }
   ],
   "source": [
    "fizzbuzz = []\n",
    "\n",
    "for i in range(1, 1000+1):\n",
    "    toAdd = \"\"\n",
    "    if i % 3 == 0:\n",
    "        toAdd += \"Fizz\"\n",
    "    if i % 5 == 0:\n",
    "        toAdd += \"Buzz\"\n",
    "    fizzbuzz.append(i if len(toAdd) == 0 else toAdd)\n",
    "    \n",
    "print(fizzbuzz)"
   ]
  },
  {
   "cell_type": "markdown",
   "metadata": {},
   "source": [
    "### b) Negative Schrittweite -1 beim Slicing\n",
    "Erweitern Sie nun Ihr Programm so, dass optional zusätzlich alle Palindrome gefunden werden.\n",
    "Ein Palindrom ist eine Zahl, die sich von vorne wie von hinten identisch liest.\n",
    "\n",
    "Beispiel: Die folgenden Zahlen sind Palindrome: 1, 11, 232, 999.\n",
    "\n",
    "Konkret sollen Sie über die Funktion `input` abfragen, \n",
    "ob zusätzlich zu Ihrem Fizz-Buzz Spiel alle Palindrome gefunden werden sollen. \n",
    "Ist dies der Fall, so sollen alle Palindrome durch `\"Palin Palin\"` ersetzt werden. \n",
    "Hierbei gewinnen Palindrome gegen das Fizz-Buzz Spiel. \n",
    "\n",
    "Beispielsweise wird die Zahl 363 nicht durch `\"Fizz\"`, sondern durch `\"Palin Palin\"` ersetzt.\n",
    "\n",
    "*Hinweis: Für einen durch `number_as_string` referenzierten String liefert `number_as_string[::-1]` den String, in welchem die Reihenfolge der Zeichen umgekehrt ist.*\n"
   ]
  },
  {
   "cell_type": "code",
   "execution_count": 20,
   "metadata": {},
   "outputs": [
    {
     "name": "stdout",
     "output_type": "stream",
     "text": [
      "['Palin Palin', 'Palin Palin', 'Palin Palin', 'Palin Palin', 'Palin Palin', 'Palin Palin', 'Palin Palin', 'Palin Palin', 'Palin Palin', 'Buzz', 'Palin Palin', 'Fizz', 13, 14, 'FizzBuzz', 16, 17, 'Fizz', 19, 'Buzz', 'Fizz', 'Palin Palin', 23, 'Fizz', 'Buzz', 26, 'Fizz', 28, 29, 'FizzBuzz', 31, 32, 'Palin Palin', 34, 'Buzz', 'Fizz', 37, 38, 'Fizz', 'Buzz', 41, 'Fizz', 43, 'Palin Palin', 'FizzBuzz', 46, 47, 'Fizz', 49, 'Buzz', 'Fizz', 52, 53, 'Fizz', 'Palin Palin', 56, 'Fizz', 58, 59, 'FizzBuzz', 61, 62, 'Fizz', 64, 'Buzz', 'Palin Palin', 67, 68, 'Fizz', 'Buzz', 71, 'Fizz', 73, 74, 'FizzBuzz', 76, 'Palin Palin', 'Fizz', 79, 'Buzz', 'Fizz', 82, 83, 'Fizz', 'Buzz', 86, 'Fizz', 'Palin Palin', 89, 'FizzBuzz', 91, 92, 'Fizz', 94, 'Buzz', 'Fizz', 97, 98, 'Palin Palin', 'Buzz', 'Palin Palin', 'Fizz', 103, 104, 'FizzBuzz', 106, 107, 'Fizz', 109, 'Buzz', 'Palin Palin', 112, 113, 'Fizz', 'Buzz', 116, 'Fizz', 118, 119, 'FizzBuzz', 'Palin Palin', 122, 'Fizz', 124, 'Buzz', 'Fizz', 127, 128, 'Fizz', 'Buzz', 'Palin Palin', 'Fizz', 133, 134, 'FizzBuzz', 136, 137, 'Fizz', 139, 'Buzz', 'Palin Palin', 142, 143, 'Fizz', 'Buzz', 146, 'Fizz', 148, 149, 'FizzBuzz', 'Palin Palin', 152, 'Fizz', 154, 'Buzz', 'Fizz', 157, 158, 'Fizz', 'Buzz', 'Palin Palin', 'Fizz', 163, 164, 'FizzBuzz', 166, 167, 'Fizz', 169, 'Buzz', 'Palin Palin', 172, 173, 'Fizz', 'Buzz', 176, 'Fizz', 178, 179, 'FizzBuzz', 'Palin Palin', 182, 'Fizz', 184, 'Buzz', 'Fizz', 187, 188, 'Fizz', 'Buzz', 'Palin Palin', 'Fizz', 193, 194, 'FizzBuzz', 196, 197, 'Fizz', 199, 'Buzz', 'Fizz', 'Palin Palin', 203, 'Fizz', 'Buzz', 206, 'Fizz', 208, 209, 'FizzBuzz', 211, 'Palin Palin', 'Fizz', 214, 'Buzz', 'Fizz', 217, 218, 'Fizz', 'Buzz', 221, 'Palin Palin', 223, 224, 'FizzBuzz', 226, 227, 'Fizz', 229, 'Buzz', 'Fizz', 'Palin Palin', 233, 'Fizz', 'Buzz', 236, 'Fizz', 238, 239, 'FizzBuzz', 241, 'Palin Palin', 'Fizz', 244, 'Buzz', 'Fizz', 247, 248, 'Fizz', 'Buzz', 251, 'Palin Palin', 253, 254, 'FizzBuzz', 256, 257, 'Fizz', 259, 'Buzz', 'Fizz', 'Palin Palin', 263, 'Fizz', 'Buzz', 266, 'Fizz', 268, 269, 'FizzBuzz', 271, 'Palin Palin', 'Fizz', 274, 'Buzz', 'Fizz', 277, 278, 'Fizz', 'Buzz', 281, 'Palin Palin', 283, 284, 'FizzBuzz', 286, 287, 'Fizz', 289, 'Buzz', 'Fizz', 'Palin Palin', 293, 'Fizz', 'Buzz', 296, 'Fizz', 298, 299, 'FizzBuzz', 301, 302, 'Palin Palin', 304, 'Buzz', 'Fizz', 307, 308, 'Fizz', 'Buzz', 311, 'Fizz', 'Palin Palin', 314, 'FizzBuzz', 316, 317, 'Fizz', 319, 'Buzz', 'Fizz', 322, 'Palin Palin', 'Fizz', 'Buzz', 326, 'Fizz', 328, 329, 'FizzBuzz', 331, 332, 'Palin Palin', 334, 'Buzz', 'Fizz', 337, 338, 'Fizz', 'Buzz', 341, 'Fizz', 'Palin Palin', 344, 'FizzBuzz', 346, 347, 'Fizz', 349, 'Buzz', 'Fizz', 352, 'Palin Palin', 'Fizz', 'Buzz', 356, 'Fizz', 358, 359, 'FizzBuzz', 361, 362, 'Palin Palin', 364, 'Buzz', 'Fizz', 367, 368, 'Fizz', 'Buzz', 371, 'Fizz', 'Palin Palin', 374, 'FizzBuzz', 376, 377, 'Fizz', 379, 'Buzz', 'Fizz', 382, 'Palin Palin', 'Fizz', 'Buzz', 386, 'Fizz', 388, 389, 'FizzBuzz', 391, 392, 'Palin Palin', 394, 'Buzz', 'Fizz', 397, 398, 'Fizz', 'Buzz', 401, 'Fizz', 403, 'Palin Palin', 'FizzBuzz', 406, 407, 'Fizz', 409, 'Buzz', 'Fizz', 412, 413, 'Palin Palin', 'Buzz', 416, 'Fizz', 418, 419, 'FizzBuzz', 421, 422, 'Fizz', 'Palin Palin', 'Buzz', 'Fizz', 427, 428, 'Fizz', 'Buzz', 431, 'Fizz', 433, 'Palin Palin', 'FizzBuzz', 436, 437, 'Fizz', 439, 'Buzz', 'Fizz', 442, 443, 'Palin Palin', 'Buzz', 446, 'Fizz', 448, 449, 'FizzBuzz', 451, 452, 'Fizz', 'Palin Palin', 'Buzz', 'Fizz', 457, 458, 'Fizz', 'Buzz', 461, 'Fizz', 463, 'Palin Palin', 'FizzBuzz', 466, 467, 'Fizz', 469, 'Buzz', 'Fizz', 472, 473, 'Palin Palin', 'Buzz', 476, 'Fizz', 478, 479, 'FizzBuzz', 481, 482, 'Fizz', 'Palin Palin', 'Buzz', 'Fizz', 487, 488, 'Fizz', 'Buzz', 491, 'Fizz', 493, 'Palin Palin', 'FizzBuzz', 496, 497, 'Fizz', 499, 'Buzz', 'Fizz', 502, 503, 'Fizz', 'Palin Palin', 506, 'Fizz', 508, 509, 'FizzBuzz', 511, 512, 'Fizz', 514, 'Palin Palin', 'Fizz', 517, 518, 'Fizz', 'Buzz', 521, 'Fizz', 523, 524, 'Palin Palin', 526, 527, 'Fizz', 529, 'Buzz', 'Fizz', 532, 533, 'Fizz', 'Palin Palin', 536, 'Fizz', 538, 539, 'FizzBuzz', 541, 542, 'Fizz', 544, 'Palin Palin', 'Fizz', 547, 548, 'Fizz', 'Buzz', 551, 'Fizz', 553, 554, 'Palin Palin', 556, 557, 'Fizz', 559, 'Buzz', 'Fizz', 562, 563, 'Fizz', 'Palin Palin', 566, 'Fizz', 568, 569, 'FizzBuzz', 571, 572, 'Fizz', 574, 'Palin Palin', 'Fizz', 577, 578, 'Fizz', 'Buzz', 581, 'Fizz', 583, 584, 'Palin Palin', 586, 587, 'Fizz', 589, 'Buzz', 'Fizz', 592, 593, 'Fizz', 'Palin Palin', 596, 'Fizz', 598, 599, 'FizzBuzz', 601, 602, 'Fizz', 604, 'Buzz', 'Palin Palin', 607, 608, 'Fizz', 'Buzz', 611, 'Fizz', 613, 614, 'FizzBuzz', 'Palin Palin', 617, 'Fizz', 619, 'Buzz', 'Fizz', 622, 623, 'Fizz', 'Buzz', 'Palin Palin', 'Fizz', 628, 629, 'FizzBuzz', 631, 632, 'Fizz', 634, 'Buzz', 'Palin Palin', 637, 638, 'Fizz', 'Buzz', 641, 'Fizz', 643, 644, 'FizzBuzz', 'Palin Palin', 647, 'Fizz', 649, 'Buzz', 'Fizz', 652, 653, 'Fizz', 'Buzz', 'Palin Palin', 'Fizz', 658, 659, 'FizzBuzz', 661, 662, 'Fizz', 664, 'Buzz', 'Palin Palin', 667, 668, 'Fizz', 'Buzz', 671, 'Fizz', 673, 674, 'FizzBuzz', 'Palin Palin', 677, 'Fizz', 679, 'Buzz', 'Fizz', 682, 683, 'Fizz', 'Buzz', 'Palin Palin', 'Fizz', 688, 689, 'FizzBuzz', 691, 692, 'Fizz', 694, 'Buzz', 'Palin Palin', 697, 698, 'Fizz', 'Buzz', 701, 'Fizz', 703, 704, 'FizzBuzz', 706, 'Palin Palin', 'Fizz', 709, 'Buzz', 'Fizz', 712, 713, 'Fizz', 'Buzz', 716, 'Palin Palin', 718, 719, 'FizzBuzz', 721, 722, 'Fizz', 724, 'Buzz', 'Fizz', 'Palin Palin', 728, 'Fizz', 'Buzz', 731, 'Fizz', 733, 734, 'FizzBuzz', 736, 'Palin Palin', 'Fizz', 739, 'Buzz', 'Fizz', 742, 743, 'Fizz', 'Buzz', 746, 'Palin Palin', 748, 749, 'FizzBuzz', 751, 752, 'Fizz', 754, 'Buzz', 'Fizz', 'Palin Palin', 758, 'Fizz', 'Buzz', 761, 'Fizz', 763, 764, 'FizzBuzz', 766, 'Palin Palin', 'Fizz', 769, 'Buzz', 'Fizz', 772, 773, 'Fizz', 'Buzz', 776, 'Palin Palin', 778, 779, 'FizzBuzz', 781, 782, 'Fizz', 784, 'Buzz', 'Fizz', 'Palin Palin', 788, 'Fizz', 'Buzz', 791, 'Fizz', 793, 794, 'FizzBuzz', 796, 'Palin Palin', 'Fizz', 799, 'Buzz', 'Fizz', 802, 803, 'Fizz', 'Buzz', 806, 'Fizz', 'Palin Palin', 809, 'FizzBuzz', 811, 812, 'Fizz', 814, 'Buzz', 'Fizz', 817, 'Palin Palin', 'Fizz', 'Buzz', 821, 'Fizz', 823, 824, 'FizzBuzz', 826, 827, 'Palin Palin', 829, 'Buzz', 'Fizz', 832, 833, 'Fizz', 'Buzz', 836, 'Fizz', 'Palin Palin', 839, 'FizzBuzz', 841, 842, 'Fizz', 844, 'Buzz', 'Fizz', 847, 'Palin Palin', 'Fizz', 'Buzz', 851, 'Fizz', 853, 854, 'FizzBuzz', 856, 857, 'Palin Palin', 859, 'Buzz', 'Fizz', 862, 863, 'Fizz', 'Buzz', 866, 'Fizz', 'Palin Palin', 869, 'FizzBuzz', 871, 872, 'Fizz', 874, 'Buzz', 'Fizz', 877, 'Palin Palin', 'Fizz', 'Buzz', 881, 'Fizz', 883, 884, 'FizzBuzz', 886, 887, 'Palin Palin', 889, 'Buzz', 'Fizz', 892, 893, 'Fizz', 'Buzz', 896, 'Fizz', 'Palin Palin', 899, 'FizzBuzz', 901, 902, 'Fizz', 904, 'Buzz', 'Fizz', 907, 908, 'Palin Palin', 'Buzz', 911, 'Fizz', 913, 914, 'FizzBuzz', 916, 917, 'Fizz', 'Palin Palin', 'Buzz', 'Fizz', 922, 923, 'Fizz', 'Buzz', 926, 'Fizz', 928, 'Palin Palin', 'FizzBuzz', 931, 932, 'Fizz', 934, 'Buzz', 'Fizz', 937, 938, 'Palin Palin', 'Buzz', 941, 'Fizz', 943, 944, 'FizzBuzz', 946, 947, 'Fizz', 'Palin Palin', 'Buzz', 'Fizz', 952, 953, 'Fizz', 'Buzz', 956, 'Fizz', 958, 'Palin Palin', 'FizzBuzz', 961, 962, 'Fizz', 964, 'Buzz', 'Fizz', 967, 968, 'Palin Palin', 'Buzz', 971, 'Fizz', 973, 974, 'FizzBuzz', 976, 977, 'Fizz', 'Palin Palin', 'Buzz', 'Fizz', 982, 983, 'Fizz', 'Buzz', 986, 'Fizz', 988, 'Palin Palin', 'FizzBuzz', 991, 992, 'Fizz', 994, 'Buzz', 'Fizz', 997, 998, 'Palin Palin', 'Buzz']\n"
     ]
    }
   ],
   "source": [
    "fizzbuzz = []\n",
    "\n",
    "for i in range(1, 1000+1):\n",
    "    if (str(i) == str(i)[::-1]):\n",
    "        fizzbuzz.append(\"Palin Palin\")\n",
    "        continue\n",
    "    toAdd = \"\"\n",
    "    if i % 3 == 0:\n",
    "        toAdd += \"Fizz\"\n",
    "    if i % 5 == 0:\n",
    "        toAdd += \"Buzz\"\n",
    "    fizzbuzz.append(i if len(toAdd) == 0 else toAdd)\n",
    "    \n",
    "print(fizzbuzz)"
   ]
  },
  {
   "cell_type": "markdown",
   "metadata": {},
   "source": [
    "### c) Die Methode `count` von String-Instanzen\n",
    "Bestimmen Sie die Anzahl der Palindrome zwischen 588 und 879, welche als Zahl ungerade sind.\t\n",
    "\t\n",
    "*Hinweis: Nutzen Sie die Methode `count` und ein geeignetes Slicing Ihrer Liste.*\n"
   ]
  },
  {
   "cell_type": "code",
   "execution_count": 22,
   "metadata": {},
   "outputs": [
    {
     "data": {
      "text/plain": [
       "48"
      ]
     },
     "execution_count": 22,
     "metadata": {},
     "output_type": "execute_result"
    }
   ],
   "source": [
    "fizzbuzz[1::2].count(\"Palin Palin\")"
   ]
  },
  {
   "cell_type": "markdown",
   "metadata": {},
   "source": [
    "---\n",
    "\n",
    "## Aufgabe 4 (Familienfeier)\n",
    "Familie Müller ist zu einer Geburtstagsfeier eingeladen. Leider können sich die Familienmitglieder (Anton, Berta, Claus, Doris) nicht einigen, wer hingeht und wer nicht. In einer gemeinsamen Diskussion kann man sich jedoch auf die folgenden fünf Grundsätze verständigen:\n",
    "1. Mindestens ein Familienmitglied geht zu der Feier.\n",
    "2. Anton und Doris gehen auf keinen Fall zusammen.\n",
    "3. Wenn Berta geht, dann geht Claus mit.\n",
    "4. Wenn Anton und Claus gehen, dann bleibt Berta zu Hause.\n",
    "5. Wenn Anton zu Hause bleibt, dann geht entweder Doris oder Claus.\n",
    "\n",
    "### a) Die logischen Operatoren `and`, `or` und `not`\n",
    "Helfen Sie der Familie Müller, indem Sie ein Programm schreiben, das für jedes der Familienmitglieder eine Variable vom Typ `bool` enthält, die beschreibt, ob das jeweilige Familienmitglied zu der Feier geht. Prüfen Sie für **eine beliebige** Belegung der Variablen, ob die Bedingungen (1)-(5) erfüllt sind.\n",
    "\n",
    "Z.B. für die Belegung `anton = True`, `berta = False`, `claus = True`, `doris = False` sind alle Bedingungen erfüllt.\n",
    "\n",
    "**Versuchen Sie, ohne `if`-Abfrage auszukommen.**\n",
    "\n",
    "*Hinweis:  \n",
    "Beachten Sie, dass $X\\Rightarrow Y$ logisch äquivalent zu $\\neg X \\vee Y$ ist, und dass Sie \"entweder $X$ oder $Y$\" äquivalent als $\\neg (X \\wedge Y) \\wedge (X \\vee Y)$ ausdrücken können.  \n",
    "Hierbei stehen $\\Rightarrow$ für eine Implikation, $\\neg$ für \"nicht\", $\\vee$ für \"oder\" und $\\wedge$ für \"und\".*"
   ]
  },
  {
   "cell_type": "code",
   "execution_count": 28,
   "metadata": {},
   "outputs": [
    {
     "name": "stdout",
     "output_type": "stream",
     "text": [
      "[True, True, False, True, False]\n"
     ]
    }
   ],
   "source": [
    "anton = False\n",
    "berta = True\n",
    "claus = False\n",
    "doris = False\n",
    "\n",
    "crit1 = (anton or berta or claus or doris)\n",
    "crit2 = not (anton and doris)\n",
    "crit3 = not berta or claus\n",
    "crit4 = not (anton and claus) or (not berta)\n",
    "crit5 = not (not anton) or (not (doris and claus) and (doris or claus))\n",
    "\n",
    "print([crit1, crit2, crit3, crit4, crit5])"
   ]
  },
  {
   "cell_type": "markdown",
   "metadata": {},
   "source": [
    "### b) Prüfung aller möglichen Konstellationen\n",
    "Schreiben Sie ein Programm, das alle Konstellationen auf die Bedingungen (1)-(5) prüft.\n",
    "\n",
    "*Hinweis: Verwenden Sie geschachtelte `for`-Schleifen.*"
   ]
  },
  {
   "cell_type": "code",
   "execution_count": 31,
   "metadata": {},
   "outputs": [
    {
     "name": "stdout",
     "output_type": "stream",
     "text": [
      "(True, True, True, True) -> False\n",
      "(True, True, True, False) -> False\n",
      "(True, True, False, True) -> False\n",
      "(True, True, False, False) -> False\n",
      "(True, False, True, True) -> False\n",
      "(True, False, True, False) -> True\n",
      "(True, False, False, True) -> False\n",
      "(True, False, False, False) -> True\n",
      "(False, True, True, True) -> False\n",
      "(False, True, True, False) -> True\n",
      "(False, True, False, True) -> False\n",
      "(False, True, False, False) -> False\n",
      "(False, False, True, True) -> False\n",
      "(False, False, True, False) -> True\n",
      "(False, False, False, True) -> True\n",
      "(False, False, False, False) -> False\n"
     ]
    }
   ],
   "source": [
    "from itertools import product\n",
    "\n",
    "for combination in product([True, False], [True, False], [True, False], [True, False]):\n",
    "    (anton, berta, claus, doris) = combination\n",
    "    \n",
    "    crit1 = (anton or berta or claus or doris)\n",
    "    crit2 = not (anton and doris)\n",
    "    crit3 = not berta or claus\n",
    "    crit4 = not (anton and claus) or (not berta)\n",
    "    crit5 = not (not anton) or (not (doris and claus) and (doris or claus))\n",
    "    \n",
    "    print(f\"{combination} -> {crit1 and crit2 and crit3 and crit4 and crit5}\")"
   ]
  },
  {
   "cell_type": "markdown",
   "metadata": {},
   "source": [
    "*Nice to know:  \n",
    "Eine elegantere Lösung als geschachtelte for-Schleifen liefert das Modul `itertools` mit der Funktion `itertools.product`, mit der Permutationen in einer Schleife durchlaufen werden können.*"
   ]
  },
  {
   "cell_type": "code",
   "execution_count": 0,
   "metadata": {},
   "outputs": [],
   "source": []
  }
 ],
 "metadata": {
  "kernelspec": {
   "display_name": "Python 3 (ipykernel)",
   "language": "python",
   "name": "python3"
  },
  "language_info": {
   "codemirror_mode": {
    "name": "ipython",
    "version": 3
   },
   "file_extension": ".py",
   "mimetype": "text/x-python",
   "name": "python",
   "nbconvert_exporter": "python",
   "pygments_lexer": "ipython3",
   "version": "3.10.12"
  }
 },
 "nbformat": 4,
 "nbformat_minor": 2
}
