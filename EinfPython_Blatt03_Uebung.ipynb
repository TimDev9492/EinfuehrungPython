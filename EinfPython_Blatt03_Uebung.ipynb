{
  "metadata": {
    "kernelspec": {
      "name": "python",
      "display_name": "Python (Pyodide)",
      "language": "python"
    },
    "language_info": {
      "codemirror_mode": {
        "name": "python",
        "version": 3
      },
      "file_extension": ".py",
      "mimetype": "text/x-python",
      "name": "python",
      "nbconvert_exporter": "python",
      "pygments_lexer": "ipython3",
      "version": "3.8"
    },
    "anaconda-cloud": {}
  },
  "nbformat_minor": 4,
  "nbformat": 4,
  "cells": [
    {
      "cell_type": "markdown",
      "source": "# Einführung in Python - Übungsblatt 3\n\n<img src=\"https://imgur.com/0bdei37.png\" alt=\"\" width=1000 border=\"0\" />",
      "metadata": {}
    },
    {
      "cell_type": "markdown",
      "source": "## Aufgabe 1 (Unveränderliche Liste: Tuple)\nNeben dem Datentyp `list` für Listen gibt es den Datentyp `tuple` für **unveränderliche** Listen. \n\nFür diesen Datentyp ist der Zugriff und das Slicing wie bei Listen möglich (siehe Aufgabe 1 des 2. Übungsblatts).\n\n*Nice to know*:  \nEinelementige Tuple werden mit Komma vor der schließenden Klammer erzeugt: `(\"Kiebitz\",)`.  \nDie beiden Ausdrücke `(\"Kiebitz\")` und `(\"Kie\" + \"bitz\")` erzeugen keine Tuple, da Klammern auch zur Gruppierung von Ausdrücken verwendet werden können.  \nSie können Tuples auch mithilfe der Funktion `tuple` erzeugen, welche aus einem iterierbaren Objekt ein Tuple erstellt. Z.B. `tuple(range(5))`.\n\n### a) Unveränderlichkeit\n\n**(i)** Erzeugen Sie ein Tuple `tpl`, welches der Reihenfolge nach einen Integer, einen String und eine Liste mit 3 beliebigen Elementen enthält.\nVollziehen Sie die Unveränderlichkeit des Datentyps nach, indem Sie versuchen, das 1. Element des Tuples `tpl` zu ersetzen.",
      "metadata": {}
    },
    {
      "cell_type": "code",
      "source": "tpl = (0, \"Hello World!\", ['a', 'b', 'c'])",
      "metadata": {
        "trusted": true
      },
      "outputs": [],
      "execution_count": 1
    },
    {
      "cell_type": "markdown",
      "source": "**(ii)** Geben Sie die `id` und das Tuple selbst aus. Verwenden Sie dann die Methode `append`, die ein Element an eine Liste anhängt, um an das Ende der Liste `tpl[2]` die Zahl `4` hinzuzufügen. Lassen Sie sich die `id` von `tpl` und das Tuple `tpl` selbst ein weiteres Mal ausgeben.  \nWarum ist das Ergebnis kein Widerspruch zur Unveränderlichkeit eines Tuples?\n\n*Bemerkung:  \nDie Methode `append` gibt es natürlich für Tuple nicht.*",
      "metadata": {}
    },
    {
      "cell_type": "code",
      "source": "print(id(tpl))\ntpl[2].append(4)\nprint(tpl)\nprint(id(tpl))",
      "metadata": {
        "trusted": true
      },
      "outputs": [
        {
          "name": "stdout",
          "text": "42020448\n(0, 'Hello World!', ['a', 'b', 'c', 4])\n42020448\n",
          "output_type": "stream"
        }
      ],
      "execution_count": 3
    },
    {
      "cell_type": "markdown",
      "source": "\n### b) Der Operator `+=`\nMithilfe des Operators `+=` können Sie Instanzen des gleichen Datentyps addieren und derselben Referenz zuweisen.\n\nZum Beispiel liefert der folgende Code die Ausgabe `15`.\n```python\na = 5\na += 10\nprint(a)\n```\n\nBei sequenziellen Datentypen dient der `+=`-Operator zum Anfügen neuer Elemente. Bei Listen ist dieser äquivalent zu der `extend`-Methode beziehungsweise ähnlich zur `append`-Methode, wenn nur 1 Element hinzugefügt werden soll.\n\n**(i)** Erzeugen Sie eine Liste `lst` mit den Zahlen von `1` bis `3` und fügen Sie anschließend mit einem `+=`-Operator die Elemente `4` und `5` hinzu.  \nLassen Sie sich vor **und** nach Hinzufügen der Elemente die `id` der Liste `lst` ausgeben. Welchen Schluss ziehen Sie daraus bezüglich der Veränderlichkeit von Listen?",
      "metadata": {}
    },
    {
      "cell_type": "code",
      "source": "lst1 = [1, 2, 3]\nprint(id(lst1))\nlst1 += [4]\nlst1 += [5]\nprint(lst1)\nprint(id(lst1))",
      "metadata": {
        "trusted": true
      },
      "outputs": [
        {
          "name": "stdout",
          "text": "46052864\n[1, 2, 3, 4, 5]\n46052864\n",
          "output_type": "stream"
        }
      ],
      "execution_count": 7
    },
    {
      "cell_type": "markdown",
      "source": "\n**(ii)** Gehen Sie nun analog für ein Tuple `tpl` vor. Erklären Sie den Unterschied zu Listen.",
      "metadata": {}
    },
    {
      "cell_type": "code",
      "source": "tpl = (1, 2, 3)\nprint(id(tpl))\ntpl += (4,)\ntpl += (5,)\nprint(tpl)\nprint(id(tpl))",
      "metadata": {
        "trusted": true
      },
      "outputs": [
        {
          "name": "stdout",
          "text": "46728168\n(1, 2, 3, 4, 5)\n45348576\n",
          "output_type": "stream"
        }
      ],
      "execution_count": 8
    },
    {
      "cell_type": "markdown",
      "source": "\n### c) Packing und Unpacking\nWelche Ausgabe erzeugt die Anweisung `1, 2, 3`? ",
      "metadata": {}
    },
    {
      "cell_type": "code",
      "source": "1, 2, 3",
      "metadata": {
        "trusted": true
      },
      "outputs": [
        {
          "execution_count": 9,
          "output_type": "execute_result",
          "data": {
            "text/plain": "(1, 2, 3)"
          },
          "metadata": {}
        }
      ],
      "execution_count": 9
    },
    {
      "cell_type": "markdown",
      "source": "Was für eine Instanz referenziert also `v` nach der Anweisung `v = 1, 2, 3`?   \nWelchen Effekt haben die Anweisungen `(a, b, c) = v` und `d, e, f = v`?   \nLassen Sie sich hierfür `a, b, c, d, e` und `f` ausgeben. ",
      "metadata": {}
    },
    {
      "cell_type": "code",
      "source": "v = 1, 2, 3\nprint(v)\n(a, b, c) = v\nd, e, f = v\nprint(a, b, c, d, e, f)",
      "metadata": {
        "scrolled": true,
        "trusted": true
      },
      "outputs": [
        {
          "name": "stdout",
          "text": "(1, 2, 3)\n1 2 3 1 2 3\n",
          "output_type": "stream"
        }
      ],
      "execution_count": 10
    },
    {
      "cell_type": "markdown",
      "source": "Geben Sie eine einzeilige Anweisung an, welche die Werte der Variablen `a` und `b` tauscht.",
      "metadata": {}
    },
    {
      "cell_type": "code",
      "source": "a = 142151\nb = 421337\n(b, a) = (a, b)\nprint(a, b)",
      "metadata": {
        "trusted": true
      },
      "outputs": [
        {
          "name": "stdout",
          "text": "421337 142151\n",
          "output_type": "stream"
        }
      ],
      "execution_count": 11
    },
    {
      "cell_type": "markdown",
      "source": "Was liefern `a, b, c = 1, 2` und `a, b, c, d = range(4)`?",
      "metadata": {}
    },
    {
      "cell_type": "code",
      "source": "a, b, c, d = range(4)\nprint(a, b, c, d)",
      "metadata": {
        "trusted": true
      },
      "outputs": [
        {
          "name": "stdout",
          "text": "0 1 2 3\n",
          "output_type": "stream"
        }
      ],
      "execution_count": 14
    },
    {
      "cell_type": "markdown",
      "source": "Betrachten Sie die folgende Schleife, die eine Liste von 2-elementigen iterierbaren Objekten durchläuft.",
      "metadata": {}
    },
    {
      "cell_type": "code",
      "source": "for e in [(1, 3), [2, 3], range(2)]:\n    x, y = e\n    print(x, y)",
      "metadata": {
        "trusted": true
      },
      "outputs": [
        {
          "name": "stdout",
          "text": "1 3\n2 3\n0 1\n",
          "output_type": "stream"
        }
      ],
      "execution_count": 15
    },
    {
      "cell_type": "markdown",
      "source": "Nutzen Sie das automatische Entpacken von Tupeln direkt im Schleifenkopf, sodass die Zuordnung `x, y = e` von oben überflüssig wird.",
      "metadata": {}
    },
    {
      "cell_type": "code",
      "source": "for (x, y) in [(1, 3), [2, 3], range(2)]:\n    print(x, y)",
      "metadata": {
        "trusted": true
      },
      "outputs": [
        {
          "name": "stdout",
          "text": "1 3\n2 3\n0 1\n",
          "output_type": "stream"
        }
      ],
      "execution_count": 16
    },
    {
      "cell_type": "markdown",
      "source": "---\n\n## Aufgabe 2 (Dictionaries)\n### a) Grundlegendes\nLegen Sie ein Dictionary mit den 3 Schlüssel-Wert-Paaren `{2.4: 534}, {True: [1,2,3]}` und `{1.45: \"Hallo\"}` an und referenzieren Sie es mit `dict0`.",
      "metadata": {}
    },
    {
      "cell_type": "code",
      "source": "dict0 = {\n    2.4: 534,\n    True: [1,2,3],\n    1.45: \"Hallo\"\n}\nprint(dict0)",
      "metadata": {
        "trusted": true
      },
      "outputs": [
        {
          "name": "stdout",
          "text": "{2.4: 534, True: [1, 2, 3], 1.45: 'Hallo'}\n",
          "output_type": "stream"
        }
      ],
      "execution_count": 18
    },
    {
      "cell_type": "markdown",
      "source": "Ergänzen Sie das Schlüssel-Wert-Paar `{\"Hallo\": 1.7}` und entfernen Sie den Eintrag zum Schlüssel `1.45` mithilfe des `del`-Operators.",
      "metadata": {}
    },
    {
      "cell_type": "code",
      "source": "dict0[\"Hallo\"] = 1.7\ndel dict0[1.45]\nprint(dict0)",
      "metadata": {
        "trusted": true
      },
      "outputs": [
        {
          "name": "stdout",
          "text": "{2.4: 534, True: [1, 2, 3], 'Hallo': 1.7}\n",
          "output_type": "stream"
        }
      ],
      "execution_count": 19
    },
    {
      "cell_type": "markdown",
      "source": "Geben Sie mit Hilfe einer `for`-Schleife und dem `print`-Befehl die Schlüssel und Werte in `dict0` aus.  \n*Hinweis: Beim Iterieren über ein Dictionary mit einer `for`-Schleife durchläuft die Laufvariable die Schlüssel des Dictionaries.*",
      "metadata": {}
    },
    {
      "cell_type": "code",
      "source": "for key in dict0:\n    print(key, dict0[key])",
      "metadata": {
        "scrolled": true,
        "trusted": true
      },
      "outputs": [
        {
          "name": "stdout",
          "text": "2.4 534\nTrue [1, 2, 3]\nHallo 1.7\n",
          "output_type": "stream"
        }
      ],
      "execution_count": 20
    },
    {
      "cell_type": "markdown",
      "source": "*Bemerkung: Seit Python 3.6 sind Dictionary-Einträge in der Reihenfolge ihres Hinzufügens geordnet, was aber als ein Implementierungsdetail betrachtet wird. Ihre Programme sollten sich auf diese Ordnung nicht verlassen.*\n\n### b) Schlüssel-Eigenschaften\n\nErstellen Sie ein leeres Dictionary `dict1`, fügen Sie die Schlüssel-Wert Paare `{0: \"int\"}`, `{0.0: \"float\"}` und `{False: \"bool\"}` nacheinander hinzu und geben Sie es danach mit `print` aus. Was fällt Ihnen auf?\n\nWelchen Wahrheitswert liefert Python für `False in dict1` bzw. `0.000 in dict1`?  \nWelchen Schluss können Sie in Hinblick auf die Schlüsselverwaltung ziehen?",
      "metadata": {}
    },
    {
      "cell_type": "code",
      "source": "dict1 = {}\ndict1[0] = \"int\"\ndict1[0.0] = \"float\"\ndict1[False] = \"bool\"\nprint(dict1)\n\nprint(False in dict1)\nprint(0.000 in dict1)",
      "metadata": {
        "trusted": true
      },
      "outputs": [
        {
          "name": "stdout",
          "text": "{0: 'bool'}\nTrue\nTrue\n",
          "output_type": "stream"
        }
      ],
      "execution_count": 22
    },
    {
      "cell_type": "markdown",
      "source": " \nKönnen Sie auch das Paar `{[1, 3, 4]: False}` ergänzen?",
      "metadata": {}
    },
    {
      "cell_type": "code",
      "source": "dict1[[1, 3, 4]] = False\nprint(dict1)",
      "metadata": {
        "trusted": true
      },
      "outputs": [
        {
          "ename": "<class 'TypeError'>",
          "evalue": "unhashable type: 'list'",
          "traceback": [
            "\u001b[0;31m---------------------------------------------------------------------------\u001b[0m",
            "\u001b[0;31mTypeError\u001b[0m                                 Traceback (most recent call last)",
            "Cell \u001b[0;32mIn[23], line 1\u001b[0m\n\u001b[0;32m----> 1\u001b[0m \u001b[43mdict1\u001b[49m\u001b[43m[\u001b[49m\u001b[43m[\u001b[49m\u001b[38;5;241;43m1\u001b[39;49m\u001b[43m,\u001b[49m\u001b[43m \u001b[49m\u001b[38;5;241;43m3\u001b[39;49m\u001b[43m,\u001b[49m\u001b[43m \u001b[49m\u001b[38;5;241;43m4\u001b[39;49m\u001b[43m]\u001b[49m\u001b[43m]\u001b[49m \u001b[38;5;241m=\u001b[39m \u001b[38;5;28;01mFalse\u001b[39;00m\n\u001b[1;32m      2\u001b[0m \u001b[38;5;28mprint\u001b[39m(dict1)\n",
            "\u001b[0;31mTypeError\u001b[0m: unhashable type: 'list'"
          ],
          "output_type": "error"
        }
      ],
      "execution_count": 23
    },
    {
      "cell_type": "markdown",
      "source": "Erzeugen Sie ein Dictionary, das dem Tupel `(1, 2, 3)` den Wert `[4, 5, 6]` zuordnet.  \nIst es auch möglich, das Tupel `(1, [2, 3])` als Schlüssel eines Dictionaries zu verwenden?  \nWelcher strukturell ähnliche Schlüssel kann `(1, [2, 3])` ersetzen?",
      "metadata": {}
    },
    {
      "cell_type": "code",
      "source": "list_dict = { (1,2,3): [4,5,6] }\nprint(list_dict)\nlist_dict[(1, (2, 3))] = \"test\"\nprint(list_dict)",
      "metadata": {
        "trusted": true
      },
      "outputs": [
        {
          "name": "stdout",
          "text": "{(1, 2, 3): [4, 5, 6]}\n{(1, 2, 3): [4, 5, 6], (1, (2, 3)): 'test'}\n",
          "output_type": "stream"
        }
      ],
      "execution_count": 25
    },
    {
      "cell_type": "markdown",
      "source": "\n### c) Kopien von Container-Datentypen\nDas folgende Verhalten lässt sich auch genauso auf alle anderen Container-Datentypen übertragen. Darunter z.B. Listen, Tuples, Sets.\n\nDurch `dict2 = dict0.copy()` wird eine Kopie des Dictionaries `dict0` erstellt und durch `dict2` referenziert. Vergleichen Sie die IDs der Dictionaries.  \nÄndern Sie in der Liste zum Schlüssel `False` von `dict2` den ersten Eintrag zu `0`.  \nGeben Sie die Werte zum Schlüssel `False` der Dictionaries `dict0` und `dict2` aus. Was fällt Ihnen auf?",
      "metadata": {}
    },
    {
      "cell_type": "code",
      "source": "dict0 = {False: [1, 2, 3], 1.45: \"Hallo\", 2.4: 534}\ndict2 = dict0.copy()\n# alternativ auch dict2 = dict(dict0)\nprint('id(dict0):', id(dict0))\nprint('id(dict2):', id(dict2))\n\ndict2[False][0] = 0\nprint(dict0[False])\nprint(dict2[False])\n",
      "metadata": {
        "trusted": true
      },
      "outputs": [
        {
          "name": "stdout",
          "text": "id(dict0): 46021360\nid(dict2): 44663496\n[0, 2, 3]\n[0, 2, 3]\n",
          "output_type": "stream"
        }
      ],
      "execution_count": 26
    },
    {
      "cell_type": "markdown",
      "source": "*Bemerkung:  \nSo eine Kopie ist unter dem Fachbegriff **shallow copy** bekannt. Die Alternative, bei der alle Einträge rekursiv kopiert werden, nennt man **deepcopy**.*\n\n---\n\n## Aufgabe 3 (Wortkette)\n\nIn dieser Aufgabe werden wir Wortketten aus gegebenen Substantiven bilden, wobei der Endbuchstabe des einen Wortes den Anfangsbuchstaben des folgenden Wortes bilden muss. Z. B. Affe - Elefant - Tiger - Rabe.\n\n### a) Dictionary erstellen\nÖffnen Sie die einzeilige Datei `Substantive.txt` mit der `with`-Anweisung (wie in Übung 1 Aufgabe 6), welche Wörter getrennt durch Komma enthält, lesen Sie diese aus und speichern Sie die Wörter in einer Liste. Hier ist wieder die Methode `split` hilfreich.  \n\nErzeugen Sie danach ein Dictionary, welches als Schlüssel die Anfangsbuchstaben der Wörter besitzt und als Werte jeweils eine Liste der Wörter mit dem entsprechenden Anfangsbuchstaben. \n\nVerwenden Sie die Methode `lower` von String-Instanzen, um Kleinbuchstaben als Schlüssel zu verwenden.  ",
      "metadata": {}
    },
    {
      "cell_type": "code",
      "source": "with open('Substantive.txt', 'r') as f:\n    words = f.readline().split(',')\n\nwords_by_first_letter = {}\nfor word in words:\n    first_letter = word[0].lower()\n    if not first_letter in words_by_first_letter:\n        words_by_first_letter[first_letter] = []\n    words_by_first_letter[first_letter] += [word]\n\nprint(words_by_first_letter)",
      "metadata": {
        "trusted": true
      },
      "outputs": [
        {
          "name": "stdout",
          "text": "{'f': ['Fotoapparat', 'Frühling', 'Fahrrad', 'Familie', 'Freund', 'Fuß', 'Fräulein', 'Flugzeug', 'Fahrkarte', 'Film', 'Feuerzeug', 'Februar', 'Fernseher', 'Flughafen', 'Fotografie', 'Funktion', 'Fahrrad', 'Fußboden', 'Frage', 'Firma', 'Freiheit', 'Familienstand', 'Fest', 'Formular', 'Füller', 'Feuerlöscher', 'Foto', 'Friseur', 'Finger', 'Flur', 'Foto', 'Flasche', 'Frühstück'], 'g': ['Gruß', 'Größe', 'Gardine', 'Gymnasium', 'Glas', 'Gast', 'Garage', 'Geldbörse', 'Gemüse', 'Grundstück', 'Garten', 'Gitarre', 'Geburtstag', 'Gefühl', 'Grundgesetz', 'Gehweg', 'Gehirn'], 's': ['Seife', 'Strumpf', 'Stuhl', 'Studentin', 'Sehenswürdigkeit', 'Schule', 'Strauch', 'Stück', 'Schiff', 'Straßenbahn', 'Straße', 'Schnee', 'Schnaps', 'September', 'Schloss', 'Streichholz', 'Star', 'Scanner', 'Sache', 'Spiel', 'Sonne', 'Stein', 'Schlüssel', 'Steak', 'Sand', 'Stelle', 'Schrank', 'Schnitzel', 'Sofa', 'Schirm', 'Stress', 'Sommer', 'Socke', 'Sessel', 'Supermarkt', 'Sahne', 'Schinken'], 'm': ['Maus', 'Maschine', 'Mandarine', 'Muskel', 'Messer', 'Menge', 'Mann', 'Monat', 'Mai', 'Monitor', 'Mutter', 'Museum', 'Musikstück', 'Marktplatz', 'Mütze', 'Markt', 'Monitor', 'März', 'Mädchen', 'Maus'], 'e': ['Einwohner', 'Ergebnis', 'Entschuldigung', 'Erdöl', 'Eintrittskarte', 'Eimer', 'Einkaufszentrum', 'Einladung', 'Eisenbahn', 'Etage', 'Engel'], 'h': ['Hose', 'Hotel', 'Hut', 'Hemd', 'Huhn', 'Hilfe', 'Heimatland', 'Haus', 'Hunger', 'Heft', 'Himmel', 'Horn', 'Herbst', 'Hafen', 'Holz', 'Hamburger', 'Haus', 'Hütte', 'Handy', 'Hafen'], 'j': ['Jacke', 'Jäger', 'Jachthafen', 'Jugendclub', 'Juli', 'Job', 'Januar', 'Jobcenter', 'Jahr', 'Juni'], 't': ['Taxi', 'Tasche', 'Tisch', 'Teppich', 'Telefon', 'Termin', 'Taschenrechner', 'Toilette', 'Tastatur', 'Tag', 'Taste', 'Theater', 'Tee', 'Tonbandgerät', 'Tourist', 'Tisch', 'Tasche', 'Tiger', 'Ticket', 'Turnschuh', 'Test'], 'u': ['Umschlagplatz', 'Unwetter', 'U-Bahn', 'Universität', 'Urlaub', 'Umwelt', 'Umwelt', 'Uhr', 'Ulme', 'Uhr'], 'o': ['Opa', 'Oktober', 'Offizier', 'Ordnung', 'Ochse', 'Obst', 'Oper', 'Orgel', 'Osterei', 'Ort', 'Oma'], 'n': ['Nachricht', 'Natur', 'Nachbar', 'Nase', 'Nummer', 'Nabelschnur', 'Natur', 'Notunterkunft', 'Nase', 'Nonne', 'Name', 'Nagel', 'November'], 'r': ['Radio', 'Reifen', 'Radiergummi', 'Regal', 'Ritter', 'Rock', 'Reparatur', 'Restaurant', 'Radio', 'Rakete', 'Rechnung', 'Reservierung', 'Rettungswagen', 'Rabe', 'Ring', 'Regen'], 'z': ['Zeitung', 'Zahn', 'Zentrum', 'Zeitung', 'Zug', 'Zuschauer', 'Zeichen', 'Zeit', 'Zeiger', 'Zucker', 'Zimmer'], 'a': ['Architekt', 'Arm', 'Arbeitgeber', 'Anzug', 'Apfel', 'Angebot', 'Aufkleber', 'Adresse', 'April', 'Alphabet', 'Anlage', 'Auspuff', 'Amulett', 'August', 'Ausweis', 'Arm', 'Apotheke', 'Altenheim', 'Auto', 'Alter', 'Anruf', 'Auge', 'Ausbildung', 'Apfelsine', 'Auto', 'Arbeitsplatz', 'Arzt'], 'c': ['Castingshow', 'Computer', 'Callcenter', 'Café', 'Cola', 'Couch', 'City', 'Chef', 'Computer', 'Clip', 'Chinese'], 'd': ['Dusche', 'Dach', 'Dollar', 'Durst', 'Disco', 'Dezember', 'Datum', 'Diskette', 'Decke', 'Dorfschule', 'Dose', 'Dichtung', 'Dolmetscherin', 'Drucker'], 'p': ['Pullover', 'Paket', 'Praktikum', 'Prüfung', 'Produkt', 'Politiker', 'Problem', 'Postkarte', 'Pause', 'Passwort', 'Polizistin', 'Preis', 'Park', 'Pizza', 'Papier', 'Pass', 'Poster', 'Projektor', 'Pflanze', 'Passant', 'Post\\n'], 'k': ['Kasse', 'Kaffee', 'Kleiderhaken', 'Kind', 'Kreditkarte', 'Kännchen', 'Kino', 'Kuchen', 'Kirche', 'Kalender', 'Kugelschreiber', 'Kammer', 'Kellner', 'Kuchen', 'Keller', 'Kugel', 'Kleid', 'Kreide', 'Kultur', 'Krankenschwester', 'Kette', 'Kassette', 'Küche', 'Krawatte', 'Kamm', 'Kognak', 'Keller', 'Klo', 'Kunde', 'Kaktus'], 'v': ['Vogel', 'Verkehr', 'Vater', 'Vanille', 'Vater', 'Versicherung', 'Verkäufer', 'Verdauung'], 'i': ['Information', 'Igel', 'Information', 'Internet', 'Infusion', 'Insel', 'Impfstoff'], 'w': ['Woche', 'Wort', 'Waage', 'Waggon', 'Wand', 'Wanderung', 'Wunsch', 'Wort', 'Warenhaus', 'Wasser', 'Wirtschaft', 'Waschzeug', 'Wein', 'Wurst', 'Wind', 'Werkstatt', 'Wetter', 'Winter', 'Werbung'], 'l': ['Lampe', 'Laden', 'Locher', 'Leber', 'Lehrer', 'Löffel', 'Leiter', 'Leben', 'Locher', 'Liebe', 'Landkarte', 'Leiste', 'Land'], 'b': ['Briefmarke', 'Beschreibung', 'Bluse', 'Brötchen', 'Bestellliste', 'Bein', 'Bleistift', 'Brille', 'Bier', 'Bild', 'Bibliothek', 'Bett', 'Bar', 'Betttuch', 'Bank', 'Beruf', 'Ball', 'Bildschirm', 'Blatt', 'Baum', 'Bus', 'Baum', 'Bahnhof', 'Bad', 'Buch', 'Balkon', 'Büro', 'Bankkarte', 'Buch', 'Bestellung', 'Biokraftstoff', 'Berg'], 'ü': ['Übung', 'Überraschung'], 'q': ['Quastenflosser', 'Quader', 'Quelle', 'Quecksilber', 'Quark'], 'y': ['Yogalehrer'], 'x': ['Xylophon']}\n",
          "output_type": "stream"
        }
      ],
      "execution_count": 28
    },
    {
      "cell_type": "markdown",
      "source": "\n### b) Wortketten bilden\n\nBilden Sie ausgehend vom Buchstaben `\"a\"` Wortketten, indem Sie jeweils in der Liste der Wörter mit gleichem Anfangsbuchstaben das erste noch nicht verwendete Wort wählen und dies in der Liste löschen. Hierzu dient die Methode `pop` für List-Instanzen. Um jedoch das in Teilaufgabe a) erzeugte Dictionary nicht zu verändern, sollten Sie zunächst mit der Funktion [`deepcopy`](https://docs.python.org/3/library/copy.html) des Moduls [`copy`](https://docs.python.org/3/library/copy.html) eine Kopie des Dictionaries erstellen. Die Wortkette an sich soll in einer Liste gespeichert werden (`append`). \n\nBeachten Sie, dass nicht alle Endbuchstaben auch als Anfangsbuchstaben auftreten!",
      "metadata": {}
    },
    {
      "cell_type": "code",
      "source": "import copy\n\noperating_dict = copy.deepcopy(words_by_first_letter)\n\ndef get_word_chain(letter_dict, start_letter, max_len):\n    chain = []\n    while (len(chain) < max_len and len(letter_dict[start_letter]) > 0):\n        next_word = letter_dict[start_letter].pop()\n        chain.append(next_word)\n        start_letter = next_word[-1]\n    return chain\n\nprint(get_word_chain(operating_dict, 'a', 100))",
      "metadata": {
        "trusted": true
      },
      "outputs": [
        {
          "name": "stdout",
          "text": "['Arzt', 'Test', 'Turnschuh', 'Hafen', 'November', 'Regen', 'Nagel', 'Land', 'Drucker', 'Ring', 'Gehirn', 'Name', 'Engel', 'Leiste', 'Etage', 'Eisenbahn', 'Nonne', 'Einladung', 'Gehweg', 'Grundgesetz', 'Zimmer', 'Rabe', 'Einkaufszentrum', 'Maus', 'Schinken', 'Nase', 'Eimer', 'Rettungswagen', 'Notunterkunft', 'Ticket', 'Tiger', 'Reservierung', 'Gefühl', 'Landkarte', 'Eintrittskarte', 'Erdöl', 'Liebe', 'Entschuldigung', 'Geburtstag', 'Gitarre', 'Ergebnis', 'Sahne', 'Einwohner', 'Rechnung', 'Garten', 'Natur', 'Rakete']\n",
          "output_type": "stream"
        }
      ],
      "execution_count": 31
    },
    {
      "cell_type": "markdown",
      "source": "### c) Zufällige Wortketten bilden\nÄndern Sie Ihr Programm so, dass nicht immer das erste noch mögliche Wort aus der Liste mit gleichen Anfangsbuchstaben gewählt wird, sondern ein zufälliges passendes Wort. Hilfreich ist hier die Funktion `randrange` des Moduls `random`.",
      "metadata": {}
    },
    {
      "cell_type": "code",
      "source": "import copy\nimport random\n\noperating_dict = copy.deepcopy(words_by_first_letter)\n\ndef get_random_word_chain(letter_dict, start_letter, max_len):\n    chain = []\n    while (len(chain) < max_len and (start_letter in letter_dict) and len(letter_dict[start_letter]) > 0):\n        word_candidates = letter_dict[start_letter]\n        next_index = random.randrange(0, len(word_candidates))\n        next_word = word_candidates[next_index]\n        del word_candidates[next_index]\n        chain.append(next_word)\n        start_letter = next_word[-1]\n    return chain\n\nprint(get_random_word_chain(operating_dict, 'a', 100))",
      "metadata": {
        "scrolled": true,
        "trusted": true
      },
      "outputs": [
        {
          "name": "stdout",
          "text": "['Altenheim', 'Museum', 'Markt', 'Theater', 'Restaurant', 'Teppich', 'Hemd', 'Dorfschule', 'Ergebnis', 'Sessel', 'Liebe', 'Einwohner', 'Rakete', 'Erdöl', 'Locher', 'Ring', 'Gardine', 'Eimer', 'Rechnung', 'Gefühl', 'Landkarte', 'Entschuldigung', 'Größe', 'Engel', 'Lampe', 'Eintrittskarte', 'Einkaufszentrum', 'Mann', 'Natur', 'Rabe', 'Etage', 'Eisenbahn', 'November', 'Reparatur', 'Ritter', 'Rettungswagen', 'Nabelschnur', 'Reifen', 'Nachbar', 'Rock', 'Keller', 'Radiergummi', 'Information', 'Nase', 'Einladung', 'Grundgesetz', 'Zeitung', 'Gitarre']\n",
          "output_type": "stream"
        }
      ],
      "execution_count": 35
    },
    {
      "cell_type": "markdown",
      "source": "### d) (Bonus) Möglichst lange zufällige Wortketten\nErgänzen Sie Ihr Programm um eine for-Schleife, welche die 1000-fache Durchführung Ihres Programms aus Teilaufgabe c) ermöglicht und ermitteln Sie dabei die Wortkette maximaler Länge, die gebildet worden ist.",
      "metadata": {}
    },
    {
      "cell_type": "code",
      "source": "import copy\nimport random\n\nlongest_chain = 0\n\nfor i in range(1000):\n    operating_dict = copy.deepcopy(words_by_first_letter)\n    word_chain = get_random_word_chain(operating_dict, 'a', 10000000)\n    if len(word_chain) > longest_chain:\n        longest_chain = len(word_chain)\n\nprint(longest_chain)",
      "metadata": {
        "trusted": true
      },
      "outputs": [
        {
          "name": "stdout",
          "text": "78\n",
          "output_type": "stream"
        }
      ],
      "execution_count": 38
    },
    {
      "cell_type": "markdown",
      "source": "---\n\n## Aufgabe 4 (Häufigkeitsanalyse)\n    \nZiel dieser Aufgabe ist es, die relativen Häufigkeiten von Buchstaben der französischen Nationalhymne zu bestimmen. Im Anschluss lässt sich dann aus dieser relativen Häufigkeitsverteilung die Sprache ermitteln :).\n\n### a) Laden einer JSON-Datei\nÖffnen Sie zunächst die Datei `character_frequencies.json` über den sogenannten         `with`-Kontextmanager und machen Sie sich mit dem Inhalt und dem Typ von `character_frequencies`vertraut. ",
      "metadata": {}
    },
    {
      "cell_type": "code",
      "source": "import json\n\nwith open(\"character_frequencies.json\", \"r\") as file:\n    character_frequencies = json.load(file)\n    print(character_frequencies)\n    \n",
      "metadata": {
        "trusted": true
      },
      "outputs": [
        {
          "name": "stdout",
          "text": "{'a': {'Deutsch': 0.0651, 'Englisch': 0.08167, 'Französisch': 0.07636}, 'b': {'Deutsch': 0.0189, 'Englisch': 0.01492, 'Französisch': 0.00901}, 'c': {'Deutsch': 0.0306, 'Englisch': 0.02782, 'Französisch': 0.0326}, 'd': {'Deutsch': 0.0508, 'Englisch': 0.04253, 'Französisch': 0.03669}, 'e': {'Deutsch': 0.174, 'Englisch': 0.12702, 'Französisch': 0.14715}, 'f': {'Deutsch': 0.0166, 'Englisch': 0.02228, 'Französisch': 0.01066}, 'g': {'Deutsch': 0.0301, 'Englisch': 0.02015, 'Französisch': 0.00866}, 'h': {'Deutsch': 0.0476, 'Englisch': 0.06094, 'Französisch': 0.00737}, 'i': {'Deutsch': 0.0755, 'Englisch': 0.06966, 'Französisch': 0.07529}, 'j': {'Deutsch': 0.0027, 'Englisch': 0.00153, 'Französisch': 0.00545}, 'k': {'Deutsch': 0.0121, 'Englisch': 0.00772, 'Französisch': 0.00049}, 'l': {'Deutsch': 0.0344, 'Englisch': 0.04025, 'Französisch': 0.05456}, 'm': {'Deutsch': 0.0253, 'Englisch': 0.02406, 'Französisch': 0.02968}, 'n': {'Deutsch': 0.0978, 'Englisch': 0.06749, 'Französisch': 0.07095}, 'o': {'Deutsch': 0.0251, 'Englisch': 0.07507, 'Französisch': 0.05378}, 'p': {'Deutsch': 0.0079, 'Englisch': 0.01929, 'Französisch': 0.03021}, 'q': {'Deutsch': 0.0002, 'Englisch': 0.00095, 'Französisch': 0.01362}, 'r': {'Deutsch': 0.07, 'Englisch': 0.05987, 'Französisch': 0.06553}, 's': {'Deutsch': 0.0727, 'Englisch': 0.06327, 'Französisch': 0.07948}, 't': {'Deutsch': 0.0615, 'Englisch': 0.09056, 'Französisch': 0.07244}, 'u': {'Deutsch': 0.0435, 'Englisch': 0.02758, 'Französisch': 0.06311}, 'v': {'Deutsch': 0.0067, 'Englisch': 0.00978, 'Französisch': 0.01628}, 'w': {'Deutsch': 0.0189, 'Englisch': 0.0236, 'Französisch': 0.00114}, 'x': {'Deutsch': 0.0003, 'Englisch': 0.0015, 'Französisch': 0.00387}, 'y': {'Deutsch': 0.0004, 'Englisch': 0.01974, 'Französisch': 0.00308}, 'z': {'Deutsch': 0.0113, 'Englisch': 0.00074, 'Französisch': 0.00136}, 'œ': {'Deutsch': 0, 'Englisch': 0, 'Französisch': 0.00018}, 'ß': {'Deutsch': 0.0031, 'Englisch': 0, 'Französisch': 0}, 'à': {'Deutsch': 0, 'Englisch': 0, 'Französisch': 0.00486}, 'ą': {'Deutsch': 0, 'Englisch': 0, 'Französisch': 0}, 'ç': {'Deutsch': 0, 'Englisch': 0, 'Französisch': 0.00085}, 'ĉ': {'Deutsch': 0, 'Englisch': 0, 'Französisch': 0}, 'ć': {'Deutsch': 0, 'Englisch': 0, 'Französisch': 0}, 'è': {'Deutsch': 0, 'Englisch': 0, 'Französisch': 0.00271}, 'é': {'Deutsch': 0.0001, 'Englisch': 0, 'Französisch': 0.01904}, 'ê': {'Deutsch': 0, 'Englisch': 0, 'Französisch': 0.00225}, 'ë': {'Deutsch': 0, 'Englisch': 0, 'Französisch': 0}, 'ę': {'Deutsch': 0, 'Englisch': 0, 'Französisch': 0}, 'ĝ': {'Deutsch': 0, 'Englisch': 0, 'Französisch': 0}, 'ĥ': {'Deutsch': 0, 'Englisch': 0, 'Französisch': 0}, 'î': {'Deutsch': 0, 'Englisch': 0, 'Französisch': 0.00045}, 'ì': {'Deutsch': 0, 'Englisch': 0, 'Französisch': 0}, 'ï': {'Deutsch': 0, 'Englisch': 0.0001, 'Französisch': 5e-05}, 'ĵ': {'Deutsch': 0, 'Englisch': 0, 'Französisch': 0}, 'ł': {'Deutsch': 0, 'Englisch': 0, 'Französisch': 0}, 'ń': {'Deutsch': 0, 'Englisch': 0, 'Französisch': 0}, 'ó': {'Deutsch': 0, 'Englisch': 0, 'Französisch': 0}, 'ò': {'Deutsch': 0, 'Englisch': 0, 'Französisch': 0}, 'ŝ': {'Deutsch': 0, 'Englisch': 0, 'Französisch': 0}, 'ś': {'Deutsch': 0, 'Englisch': 0, 'Französisch': 0}, 'ù': {'Deutsch': 0, 'Englisch': 0, 'Französisch': 0.00058}, 'ŭ': {'Deutsch': 0, 'Englisch': 0, 'Französisch': 0}, 'ź': {'Deutsch': 0, 'Englisch': 0, 'Französisch': 0}, 'ż': {'Deutsch': 0, 'Englisch': 0, 'Französisch': 0}}\n",
          "output_type": "stream"
        }
      ],
      "execution_count": 40
    },
    {
      "cell_type": "markdown",
      "source": "*Bemerkung: \nEine JSON-Datei ist eine Datei, die einfache Datenstrukturen und Objekte im Format JavaScript Object Notation (JSON) speichert, einem Standardformat für den Datenaustausch. JSON ist zwar von JavaScript abgeleitet, ist aber ein sprachunabhängiges Datenformat. Eine JSON-Datei speichert Daten in Schlüssel-Wert-Paaren und Arrays.*",
      "metadata": {}
    },
    {
      "cell_type": "markdown",
      "source": "### b) Relative Häufigkeiten \n\nDer folgend Code öffnet die Datei `marseillaise.txt`, liest den Inhalt der Datei und gibt diesen aus: ",
      "metadata": {}
    },
    {
      "cell_type": "code",
      "source": "with open(\"marseillaise.txt\", \"r\") as file:\n    data = file.read()\n    print(data)",
      "metadata": {
        "trusted": true
      },
      "outputs": [
        {
          "name": "stdout",
          "text": "Allons enfants de la Patrie,\nLe jour de gloire est arrivé !\nContre nous de la tyrannie\nL'étendard sanglant est levé, (bis)\nEntendez-vous dans les campagnes\nMugir ces féroces soldats ?\nIls viennent jusque dans vos bras\nÉgorger vos fils, vos compagnes !\n\nAux armes, citoyens,\nFormez vos bataillons,\nMarchons, marchons !\nQu'un sang impur\nAbreuve nos sillons !\n\nQue veut cette horde d'esclaves,\nDe traîtres, de rois conjurés ?\nPour qui ces ignobles entraves,\nCes fers dès longtemps préparés ? (bis)\nFrançais, pour nous, ah ! quel outrage\nQuels transports il doit exciter !\nC'est nous qu'on ose méditer\nDe rendre à l'antique esclavage !\n\nAux armes, citoyens,\nFormez vos bataillons,\nMarchons, marchons !\nQu'un sang impur\nAbreuve nos sillons !\n\nQuoi ! des cohortes étrangères\nFeraient la loi dans nos foyers !\nQuoi ! Ces phalanges mercenaires\nTerrasseraient nos fiers guerriers ! (bis)\nGrand Dieu ! Par des mains enchaînées\nNos fronts sous le joug se ploieraient\nDe vils despotes deviendraient\nLes maîtres de nos destinées !\n\nAux armes, citoyens,\nFormez vos bataillons,\nMarchons, marchons !\nQu'un sang impur\nAbreuve nos sillons !\n\nTremblez, tyrans et vous perfides\nL'opprobre de tous les partis,\nTremblez ! vos projets parricides\nVont enfin recevoir leurs prix ! (bis)\nTout est soldat pour vous combattre,\nS'ils tombent, nos jeunes héros,\nLa terre en produit de nouveaux,\nContre vous tout prêts à se battre !\n\nAux armes, citoyens,\nFormez vos bataillons,\nMarchons, marchons !\nQu'un sang impur\nAbreuve nos sillons !\n\nFrançais, en guerriers magnanimes,\nPortez ou retenez vos coups !\nÉpargnez ces tristes victimes,\nÀ regret s'armant contre nous. (bis)\nMais ces despotes sanguinaires,\nMais ces complices de Bouillé,\nTous ces tigres qui, sans pitié,\nDéchirent le sein de leur mère !\n\nAux armes, citoyens,\nFormez vos bataillons,\nMarchons, marchons !\nQu'un sang impur\nAbreuve nos sillons !\n\nAmour sacré de la Patrie,\nConduis, soutiens nos bras vengeurs\nLiberté, Liberté chérie,\nCombats avec tes défenseurs ! (bis)\nSous nos drapeaux que la victoire\nAccoure à tes mâles accents,\nQue tes ennemis expirants\nVoient ton triomphe et notre gloire !\n\nAux armes, citoyens,\nFormez vos bataillons,\nMarchons, marchons !\nQu'un sang impur\nAbreuve nos sillons !\n\n",
          "output_type": "stream"
        }
      ],
      "execution_count": 41
    },
    {
      "cell_type": "markdown",
      "source": "Nutzen Sie die String-Methode `lower` (siehe Aufgabe 3 a)), um nur Kleinbuchstaben auszugeben.",
      "metadata": {}
    },
    {
      "cell_type": "code",
      "source": "with open(\"marseillaise.txt\", \"r\") as file:\n    data = file.read().lower()\n    print(data)",
      "metadata": {
        "trusted": true
      },
      "outputs": [
        {
          "name": "stdout",
          "text": "allons enfants de la patrie,\nle jour de gloire est arrivé !\ncontre nous de la tyrannie\nl'étendard sanglant est levé, (bis)\nentendez-vous dans les campagnes\nmugir ces féroces soldats ?\nils viennent jusque dans vos bras\négorger vos fils, vos compagnes !\n\naux armes, citoyens,\nformez vos bataillons,\nmarchons, marchons !\nqu'un sang impur\nabreuve nos sillons !\n\nque veut cette horde d'esclaves,\nde traîtres, de rois conjurés ?\npour qui ces ignobles entraves,\nces fers dès longtemps préparés ? (bis)\nfrançais, pour nous, ah ! quel outrage\nquels transports il doit exciter !\nc'est nous qu'on ose méditer\nde rendre à l'antique esclavage !\n\naux armes, citoyens,\nformez vos bataillons,\nmarchons, marchons !\nqu'un sang impur\nabreuve nos sillons !\n\nquoi ! des cohortes étrangères\nferaient la loi dans nos foyers !\nquoi ! ces phalanges mercenaires\nterrasseraient nos fiers guerriers ! (bis)\ngrand dieu ! par des mains enchaînées\nnos fronts sous le joug se ploieraient\nde vils despotes deviendraient\nles maîtres de nos destinées !\n\naux armes, citoyens,\nformez vos bataillons,\nmarchons, marchons !\nqu'un sang impur\nabreuve nos sillons !\n\ntremblez, tyrans et vous perfides\nl'opprobre de tous les partis,\ntremblez ! vos projets parricides\nvont enfin recevoir leurs prix ! (bis)\ntout est soldat pour vous combattre,\ns'ils tombent, nos jeunes héros,\nla terre en produit de nouveaux,\ncontre vous tout prêts à se battre !\n\naux armes, citoyens,\nformez vos bataillons,\nmarchons, marchons !\nqu'un sang impur\nabreuve nos sillons !\n\nfrançais, en guerriers magnanimes,\nportez ou retenez vos coups !\népargnez ces tristes victimes,\nà regret s'armant contre nous. (bis)\nmais ces despotes sanguinaires,\nmais ces complices de bouillé,\ntous ces tigres qui, sans pitié,\ndéchirent le sein de leur mère !\n\naux armes, citoyens,\nformez vos bataillons,\nmarchons, marchons !\nqu'un sang impur\nabreuve nos sillons !\n\namour sacré de la patrie,\nconduis, soutiens nos bras vengeurs\nliberté, liberté chérie,\ncombats avec tes défenseurs ! (bis)\nsous nos drapeaux que la victoire\naccoure à tes mâles accents,\nque tes ennemis expirants\nvoient ton triomphe et notre gloire !\n\naux armes, citoyens,\nformez vos bataillons,\nmarchons, marchons !\nqu'un sang impur\nabreuve nos sillons !\n\n",
          "output_type": "stream"
        }
      ],
      "execution_count": 44
    },
    {
      "cell_type": "markdown",
      "source": "Nun sollen die relativen Häufigkeiten aller Buchstaben im Alphabet für die Textdatei bestimmt werden. Sie können Leer- und Satzzeichen in Ihrer Häufigkeitsanalyse vernachlässigen, nicht aber Sonderzeichen wie beispielsweise Umlaute.\nDas Dictionary aus a) kann hilfreich sein, um das neue Dictionary mit `dict.fromkeys(list, value)` zu erstellen.",
      "metadata": {}
    },
    {
      "cell_type": "code",
      "source": "song_char_freq = dict.fromkeys(character_frequencies.keys(), 0)\n\ntotal_characters = 0\nfor character in data:\n    if not character in song_char_freq:\n        continue\n    total_characters += 1\n    song_char_freq[character] += 1\n\nfor counted_char in song_char_freq:\n    song_char_freq[counted_char] /= total_characters\n\nprint(song_char_freq)",
      "metadata": {
        "trusted": true
      },
      "outputs": [
        {
          "name": "stdout",
          "text": "{'a': 0.07220630372492837, 'b': 0.017765042979942695, 'c': 0.033810888252149, 'd': 0.02464183381088825, 'e': 0.12034383954154727, 'f': 0.010888252148997135, 'g': 0.017191977077363897, 'h': 0.012034383954154728, 'i': 0.05902578796561605, 'j': 0.0034383954154727794, 'k': 0.0, 'l': 0.040687679083094556, 'm': 0.03151862464183381, 'n': 0.07679083094555873, 'o': 0.07736389684813753, 'p': 0.022349570200573064, 'q': 0.010315186246418338, 'r': 0.0825214899713467, 's': 0.11919770773638969, 't': 0.05845272206303725, 'u': 0.0492836676217765, 'v': 0.02177650429799427, 'w': 0.0, 'x': 0.006303724928366762, 'y': 0.005157593123209169, 'z': 0.006876790830945559, 'œ': 0.0, 'ß': 0.0, 'à': 0.002292263610315186, 'ą': 0.0, 'ç': 0.001146131805157593, 'ĉ': 0.0, 'ć': 0.0, 'è': 0.0017191977077363897, 'é': 0.012607449856733524, 'ê': 0.0005730659025787965, 'ë': 0.0, 'ę': 0.0, 'ĝ': 0.0, 'ĥ': 0.0, 'î': 0.0017191977077363897, 'ì': 0.0, 'ï': 0.0, 'ĵ': 0.0, 'ł': 0.0, 'ń': 0.0, 'ó': 0.0, 'ò': 0.0, 'ŝ': 0.0, 'ś': 0.0, 'ù': 0.0, 'ŭ': 0.0, 'ź': 0.0, 'ż': 0.0}\n",
          "output_type": "stream"
        }
      ],
      "execution_count": 45
    },
    {
      "cell_type": "markdown",
      "source": "### c) Test auf Sprache\nBerechnen Sie für die Sprachen `Deutsch`, `Englisch` und `Französisch` jeweils die Euklidische Distanz (Wurzel aus der Summe der einzelnen quadrierten Abstände) der relativen Häufigkeiten in `character_frequencies`und den relativen Häufigkeiten, die Sie in Teilaufgabe b) ermittelt haben. ",
      "metadata": {}
    },
    {
      "cell_type": "code",
      "source": "import math\n\ndef get_euclid_distance(language, char_freq):\n    total_sum = 0\n    for character in char_freq:\n        if not (character in character_frequencies and character in char_freq):\n            print(\"Couldn't account for character\", character)\n            continue\n        freq_in_lang = character_frequencies[character][language]\n        freq_in_sample = char_freq[character]\n        total_sum += (freq_in_lang - freq_in_sample) ** 2\n    return math.sqrt(total_sum)\n\nprint(get_euclid_distance(\"Deutsch\", song_char_freq))\nprint(get_euclid_distance(\"Englisch\", song_char_freq))\nprint(get_euclid_distance(\"Französisch\", song_char_freq))\n",
      "metadata": {
        "trusted": true
      },
      "outputs": [
        {
          "name": "stdout",
          "text": "0.1107845820337409\n0.0986829219078765\n0.06753071394232202\n",
          "output_type": "stream"
        }
      ],
      "execution_count": 47
    },
    {
      "cell_type": "markdown",
      "source": "Für welche Sprache ist der Abstand am kleinsten?",
      "metadata": {}
    },
    {
      "cell_type": "markdown",
      "source": "### d) Andere Textdateien\nWenn Sie wollen, können Sie die Analyse auch für die Textdateien `badnerlied.txt` und `god_save_the_king.txt` durchführen.",
      "metadata": {}
    },
    {
      "cell_type": "code",
      "source": "with open(\"badnerlied.txt\", \"r\") as file:\n    data = file.read().lower()\n\nsong_char_freq = dict.fromkeys(character_frequencies.keys(), 0)\n\ntotal_characters = 0\nfor character in data:\n    if not character in song_char_freq:\n        continue\n    total_characters += 1\n    song_char_freq[character] += 1\n\nfor counted_char in song_char_freq:\n    song_char_freq[counted_char] /= total_characters\n\nprint(get_euclid_distance(\"Deutsch\", song_char_freq))\nprint(get_euclid_distance(\"Englisch\", song_char_freq))\nprint(get_euclid_distance(\"Französisch\", song_char_freq))\n",
      "metadata": {
        "trusted": true
      },
      "outputs": [
        {
          "name": "stdout",
          "text": "0.11609354438876761\n0.13096222704874716\n0.136395670463428\n",
          "output_type": "stream"
        }
      ],
      "execution_count": 49
    },
    {
      "cell_type": "code",
      "source": "with open(\"god_save_the_king.txt\", \"r\") as file:\n    data = file.read().lower()\n\nsong_char_freq = dict.fromkeys(character_frequencies.keys(), 0)\n\ntotal_characters = 0\nfor character in data:\n    if not character in song_char_freq:\n        continue\n    total_characters += 1\n    song_char_freq[character] += 1\n\nfor counted_char in song_char_freq:\n    song_char_freq[counted_char] /= total_characters\n\nprint(get_euclid_distance(\"Deutsch\", song_char_freq))\nprint(get_euclid_distance(\"Englisch\", song_char_freq))\nprint(get_euclid_distance(\"Französisch\", song_char_freq))\n",
      "metadata": {
        "trusted": true
      },
      "outputs": [
        {
          "name": "stdout",
          "text": "0.10874281799952415\n0.06910891257078469\n0.09994133842224062\n",
          "output_type": "stream"
        }
      ],
      "execution_count": 50
    },
    {
      "cell_type": "code",
      "source": "",
      "metadata": {
        "trusted": true
      },
      "outputs": [],
      "execution_count": null
    }
  ]
}