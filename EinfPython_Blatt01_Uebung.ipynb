{
 "cells": [
  {
   "cell_type": "markdown",
   "metadata": {},
   "source": [
    "# Einführung in Python - Übungsblatt 1"
   ]
  },
  {
   "cell_type": "markdown",
   "metadata": {},
   "source": [
    "<img src=\"https://imgur.com/oC7g1Xd.png\" alt=\"\" width=500 border=\"0\" />\n",
    "\n",
    "**Hinweise**\n",
    "- Mit `help(Ausdruck)` können Sie sich Informationen zu Ausdruck anzeigen lassen.\n",
    "- Sie können in den Zellen, die mit \"`In [ ]:`\" beginnen, Python-Code eingeben und mit **STRG+Enter** ausführen. Wenn Sie **SHIFT+Enter** drücken, wird der Code ausgeführt und die nächste Zelle wird ausgewählt. Führen Sie als Test den folgenden Code aus:"
   ]
  },
  {
   "cell_type": "code",
   "execution_count": null,
   "metadata": {},
   "outputs": [],
   "source": [
    "help(print)"
   ]
  },
  {
   "cell_type": "code",
   "execution_count": null,
   "metadata": {},
   "outputs": [],
   "source": [
    "print(\"Hello World\")"
   ]
  },
  {
   "cell_type": "markdown",
   "metadata": {},
   "source": [
    "- Dabei ist es möglich mehrere Zeilen zu programmieren, die dann nacheinander ausgeführt werden."
   ]
  },
  {
   "cell_type": "code",
   "execution_count": null,
   "metadata": {},
   "outputs": [],
   "source": [
    "a = 5\n",
    "b = 13\n",
    "print(a + b)"
   ]
  },
  {
   "cell_type": "markdown",
   "metadata": {},
   "source": [
    "- Falls die **letzte Zeile** in einer Zelle einen Wert beinhaltet, wird dieser als \"`Out [x]:`\" ausgegeben. Hierfür ist kein Aufruf von `print` notwendig."
   ]
  },
  {
   "cell_type": "code",
   "execution_count": null,
   "metadata": {
    "scrolled": true
   },
   "outputs": [],
   "source": [
    "print(\"Referenzen auf Instanzen bleiben über Zellen hinweg erhalten (ein Namensraum):\")\n",
    "a + b"
   ]
  },
  {
   "cell_type": "markdown",
   "metadata": {},
   "source": [
    "---\n",
    "\n",
    "## Aufgabe 1 (Arithmetische Operatoren und Ausdrücke)\n",
    "\n",
    "Die Operatoren `+`, `-`, `*`, `/` für Addition, Subtraktion, Multiplikation und Division sind Ihnen sicherlich schon bekannt.  \n",
    "Probieren Sie in der folgenden Zelle die Rechenoperatoren `//`, `%` und `**` für verschiedene Zahlen aus. Z.B. `7 // 2`, `-7 // 2`, `9 % 6`, `2**3`. Welche Rechenoperationen stecken jeweils dahinter? Wie ist die Auswertungsreihenfolge bei mehreren Operationen?  \n",
    "Schreiben Sie Ihre Antworten als Kommentar (mit `#`) hinter den passenden Python-Code in die nächste Zelle dieses Jupyter Notebooks."
   ]
  },
  {
   "cell_type": "code",
   "execution_count": null,
   "metadata": {},
   "outputs": [],
   "source": []
  },
  {
   "cell_type": "markdown",
   "metadata": {},
   "source": []
  },
  {
   "cell_type": "markdown",
   "metadata": {},
   "source": [
    "---\n",
    "\n",
    "## Aufgabe 2 (Die eingebaute Funktion ```print```)\n",
    "\n",
    "### (a) Ausgabe mehrerer Argumente\n",
    "Mit der Funktion `print` können Werte auf dem Bildschirm ausgegeben werden. \n",
    "Dabei können `print` mehrere Werte durch Kommata getrennt übergeben werden, wie z.B."
   ]
  },
  {
   "cell_type": "code",
   "execution_count": null,
   "metadata": {},
   "outputs": [],
   "source": [
    "print(\"Ich bin\", 26, \"Jahre alt\")"
   ]
  },
  {
   "cell_type": "markdown",
   "metadata": {},
   "source": [
    "Machen Sie sich mit der Funktion ```print``` vertraut. \n",
    "Geben Sie dabei insbesondere Strings, Gleitkommazahlen, Ganzzahlen und Listen aus.\n",
    "Schauen Sie sich außerdem die Hilfe zu ```print``` mittels ```help(print)``` an. (Sie müssen sie nicht vollständig lesen!)"
   ]
  },
  {
   "cell_type": "code",
   "execution_count": null,
   "metadata": {},
   "outputs": [],
   "source": []
  },
  {
   "cell_type": "markdown",
   "metadata": {},
   "source": [
    "### (b) Die Schlüsselwortparameter `sep` und `end`\n",
    "Führen Sie folgenden Zeilen der Reihe nach aus. Welche Bedeutung haben die Ausdrücke hinter `sep` bzw. `end`?"
   ]
  },
  {
   "cell_type": "code",
   "execution_count": null,
   "metadata": {},
   "outputs": [],
   "source": [
    "print(\"Hallo\", \"ich\", \"bin\", 20, \"Jahre\", \"alt\", sep=\"***\")"
   ]
  },
  {
   "cell_type": "code",
   "execution_count": null,
   "metadata": {},
   "outputs": [],
   "source": [
    "print(\"Freut mich\", end=\"\")\n",
    "print(\"fuer dich!\")"
   ]
  },
  {
   "cell_type": "code",
   "execution_count": 1,
   "metadata": {},
   "outputs": [
    {
     "name": "stdout",
     "output_type": "stream",
     "text": [
      "Ich will-eine eigene-Zeile!Ende"
     ]
    }
   ],
   "source": [
    "print(\"Ich will\", \"eine eigene\", \"Zeile!\", sep=\"-\", end=\"Ende\")"
   ]
  },
  {
   "cell_type": "markdown",
   "metadata": {},
   "source": []
  },
  {
   "cell_type": "markdown",
   "metadata": {},
   "source": [
    "---\n",
    "\n",
    "## Aufgabe 3 (Datentypen)\n",
    "\n",
    "### (a) Die Funktion `type`\n",
    "Jede Instanz besitzt einen Datentyp, der sich mit der Funktion `type` ermitteln lässt, z.B. erzeugt `type(1)` die Ausgabe `<class 'int'>`.\n",
    "\n",
    "Gegeben ist die Liste `lst = [1.0, 1 + 3, 1 + 3.0j, \"1\", True, [1, 2, 3], {1: 100, 2: 200}, {1, 2, 3}, print]`.  \n",
    "Geben Sie für jedes Element der obigen Liste den Typ aus, indem Sie diese mit einer `for`-Schleife durchlaufen."
   ]
  },
  {
   "cell_type": "code",
   "execution_count": null,
   "metadata": {},
   "outputs": [],
   "source": [
    "lst = [1.0, 1 + 3, 1 + 3.0j, \"1\", True, [1, 2, 3], {1: 100, 2: 200}, {1, 2, 3}, print]\n"
   ]
  },
  {
   "cell_type": "markdown",
   "metadata": {},
   "source": [
    "### (b) Umwandlung von Datentypen\n",
    "Mit den Funktionen `int`, `float`, `str` können Sie Instanzen in Ganz- bzw. Gleitkommazahlen oder Strings umwandeln.\n",
    "\n",
    "Erweitern Sie die Ausdrücke `1 + 3`, `\"1\" + \"3\"`, `1 + \"3\"` um die notwendigen Umwandlungen, sodass die Ausgaben, `4.0` oder `13` erzeugt werden."
   ]
  },
  {
   "cell_type": "code",
   "execution_count": null,
   "metadata": {},
   "outputs": [],
   "source": []
  },
  {
   "cell_type": "code",
   "execution_count": null,
   "metadata": {},
   "outputs": [],
   "source": []
  },
  {
   "cell_type": "code",
   "execution_count": null,
   "metadata": {},
   "outputs": [],
   "source": []
  },
  {
   "cell_type": "markdown",
   "metadata": {},
   "source": [
    "---\n",
    "\n",
    "## Aufgabe 4 (Vergleichsoperatoren und die eingebaute Funktion `input`) ##\n",
    "\n",
    "Mithilfe von `<`, `>`, `<=`, `>=`, `==` und `!=` können Instanzen anhand ihrer Werte verglichen werden.\n",
    "\n",
    "Die eingebaute Funktion `input` erlaubt es, Zeichenketten vom Benutzer über die Tastatur einzulesen.\n",
    "Dabei kann input als Parameter einen String mit einer Eingabeaufforderung übergeben werden.\n",
    "\n",
    "### Zahlen Ratespiel\n",
    "Eine Person merkt sich eine geheime Zahl zwischen 1 und 100 (in unserem Fall ist diese zufällig durch den Computer generiert).  \n",
    "Die Aufgabe einer weiteren Person (im Folgenden User genannt) ist es, die Zahl zu erraten.\n",
    "\n",
    "Lesen Sie hierfür so lange eine Zahl vom User mithilfe der eingebauten Funktion `input` ein, bis die Geheimzahl erraten wurde. Bei jeder falschen Eingabe soll dem User mitgeteilt werden, ob die eingegebene Zahl kleiner oder größer als die Geheimzahl ist.\n",
    "\n",
    "*Bemerkung: `while`, `if` und die obigen Vergleichsoperatoren sind hierfür hilfreich.*"
   ]
  },
  {
   "cell_type": "code",
   "execution_count": null,
   "metadata": {},
   "outputs": [],
   "source": [
    "import random\n",
    "# generiere Zufallszahl zwischen 1 und 100\n",
    "geheim = random.randint(1, 100)\n",
    "\n"
   ]
  },
  {
   "cell_type": "markdown",
   "metadata": {},
   "source": [
    "---\n",
    "\n",
    "## Aufgabe 5 (Der Datentyp `str`) ##\n",
    "\n",
    "### (a) Konkatenation von Strings\n",
    "Interpretieren Sie die Ausgabe von `\"Python \" + \"ist \" + \"toll\"`."
   ]
  },
  {
   "cell_type": "code",
   "execution_count": null,
   "metadata": {},
   "outputs": [],
   "source": []
  },
  {
   "cell_type": "markdown",
   "metadata": {},
   "source": [
    "### (b) Zugriffsoperator für Strings\n",
    "Erzeugen Sie eine Referenz `s` auf den String `\"Python ist toll\"`.  \n",
    "Greifen Sie für eine Zahl $i \\in \\{0,\\dots , \\text{len(s)} − 1\\}$ mit `s[i]` auf das $i$-te Zeichen von `s` zu."
   ]
  },
  {
   "cell_type": "code",
   "execution_count": null,
   "metadata": {},
   "outputs": [],
   "source": []
  },
  {
   "cell_type": "markdown",
   "metadata": {},
   "source": [
    "### (c) Der Operator `in`\n",
    "Mit dem Operator `in` können Sie prüfen, ob eine Sequenz einen Wert enthält. \n",
    "\n",
    "Schreiben Sie ein Programm, das für jeden Buchstaben des Alphabets ausgibt, ob er in `s` enthalten ist. Hierfür ist das Alphabet der Kleinbuchstaben bereits gegeben. Beachten Sie auch Großbuchstaben.\n",
    "\n",
    "*Hinweis: Informieren Sie sich über die Methode `upper` eines Strings, z.B. über `help(\" \".upper)`*"
   ]
  },
  {
   "cell_type": "code",
   "execution_count": null,
   "metadata": {},
   "outputs": [],
   "source": [
    "alphabet = \"abcdefghijklmnopqrstuvwxyz\"\n",
    "s = \"Python ist toll\"\n",
    "\n"
   ]
  },
  {
   "cell_type": "markdown",
   "metadata": {},
   "source": [
    "### (d) Die Methode `join` eines Strings\n",
    "Mithilfe der String-Methode `join` kann eine Sequenz von Strings zu einem neuen String mittels eines Verbindungsstrings konkateniert werden.\n",
    "\n",
    "Verwenden Sie diese Methode, um mithilfe der gegebenen Liste `lst` den String `Python ist toll` sowie `Python-ist-toll` zu erzeugen. "
   ]
  },
  {
   "cell_type": "code",
   "execution_count": 3,
   "metadata": {},
   "outputs": [
    {
     "data": {
      "text/plain": [
       "'Python ist toll'"
      ]
     },
     "execution_count": 3,
     "metadata": {},
     "output_type": "execute_result"
    }
   ],
   "source": [
    "lst = [\"Python\", \"ist\", \"toll\"]\n",
    "\" \".join(lst)\n"
   ]
  },
  {
   "cell_type": "markdown",
   "metadata": {},
   "source": [
    "---\n",
    "\n",
    "# Aufgabe 6 (Auslesen einer CSV-Datei)\n",
    "\n",
    "Gegeben ist eine Datei, in welcher personenbezogene Daten von gegen Corona geimpften Personen gespeichert sind. Unter anderem ist dort das Alter zum Zeitpunkt der Impfung gespeichert. Das Gesundheitsamt möchte gerne das Durchschnittsalter der geimpften Personen berechnen.\n",
    "\n",
    "Das Öffnen und Schließen einer Datei kann mit Hilfe der Funktion `open` und dem Schlüsselwort `with` (durch einen Kontextmanager) implementiert werden: "
   ]
  },
  {
   "cell_type": "code",
   "execution_count": null,
   "metadata": {},
   "outputs": [],
   "source": [
    "with open(\"Personendaten.csv\", \"r\") as fobj:\n",
    "    print(fobj.read())"
   ]
  },
  {
   "cell_type": "markdown",
   "metadata": {},
   "source": [
    "Im `with`-Block (gekennzeichnet durch die Einrücktiefe) steht das Dateiobjekt lesbar (`\"r\"`) über die Referenz `fobj` für das Datenauslesen zur Verfügung. Ist der Block abgearbeitet, wird die Datei automatisch geschlossen.\n",
    "\n",
    "Das Dateiobjekt stellt ein iterierbares Objekt dar, wobei über die einzelnen Zeilen iteriert wird, genau wie eine Stringinstanz, wobei dort über die einzelnen Zeichen iteriert wird:  "
   ]
  },
  {
   "cell_type": "code",
   "execution_count": null,
   "metadata": {},
   "outputs": [],
   "source": [
    "s = \"Hello\"\n",
    "for l in s:\n",
    "    print(l)"
   ]
  },
  {
   "cell_type": "markdown",
   "metadata": {},
   "source": [
    "### (a) Dateiobjekt zeilenweise ausgeben\n",
    "**Ersetzen** Sie den `print`-Aufruf unten durch eine `for`-Schleife und eine zeilenweise Ausgabe."
   ]
  },
  {
   "cell_type": "code",
   "execution_count": null,
   "metadata": {},
   "outputs": [],
   "source": [
    "with open(\"Personendaten.csv\", \"r\") as fobj:\n",
    "    print(fobj.read())\n"
   ]
  },
  {
   "cell_type": "markdown",
   "metadata": {},
   "source": [
    "### (b) Die Methode `split` eines Strings\n",
    "Informieren Sie sich in der Online-Dokumentation über die [`split`](https://docs.python.org/3/library/stdtypes.html?highlight=split#str.split)-Methode von Stringinstanzen und nutzen sie diese, um das Alter der einzelnen Personen zu extrahieren, dieses in eine Zahl umzuwandeln und damit das Durchschnittsalter zu ermitteln.\n",
    "\n",
    "*Hinweis: Ist `lst` eine Referenz auf eine Listinstanz, so lässt sich mit dem Zugriffsoperator `[]` auf Listenelemente zugreifen: `lst[3]` liefert zum Beispiel eine Referenz auf das 4. Listenelement.*"
   ]
  },
  {
   "cell_type": "code",
   "execution_count": null,
   "metadata": {},
   "outputs": [],
   "source": []
  },
  {
   "cell_type": "markdown",
   "metadata": {},
   "source": [
    "### Informationen zu CSV-Dateien\n",
    "Im CSV-Format (Comma-separated values) werden Daten zeilenweise und durch Komma (oder einem Trennzeichen) getrennt gespeichert. Im Deutschen wird auch oft das Semikolon verwendet, da das Komma als Trennzeichen in Zahlen auftritt.\n",
    "Der erste Datensatz kann ein Kopfdatensatz sein, der die Spaltennamen definiert (wie hier auch).\n",
    "\n",
    "**Beachten Sie: In der Standard-Bibliothek gibt es das Modul [`csv`](https://docs.python.org/3/library/csv.html) um csv-Dateien zu verarbeiten.**"
   ]
  },
  {
   "cell_type": "markdown",
   "metadata": {},
   "source": [
    "---\n",
    "\n",
    "# Aufgabe 7 (Unique Digits)\n",
    "\n",
    "Schreiben Sie ein Programm, welches die keinste natürliche Zahl $n \\in \\mathbb N$ findet, sodass die Quadratzahl $n^2$ und die dritte Potenz $n^3$ zusammen genommen alle Ziffern von $0-9$ genau einmal enthält.\n",
    "\n",
    "Beispiel: Die Zahl 17 hat $17^2=289$ als Quadratzahl und $17^3=4913$ als dritte Potenz. Die Zahl 17 kann also nicht Lösung Ihres Programms sein, da die Ziffern 0,5,6 und 7 nicht vorhanden sind und die Ziffer 9 zweimal vorkommt.\n",
    "\n",
    "*Hinweis: Die Funktion `set` kann genutzt werden. Sie liefert eine Menge und kann direkt auf Strings angewendet werden.* "
   ]
  },
  {
   "cell_type": "code",
   "execution_count": 5,
   "metadata": {},
   "outputs": [
    {
     "name": "stdout",
     "output_type": "stream",
     "text": [
      "69 4761 328509\n"
     ]
    }
   ],
   "source": [
    "n = 1\n",
    "smallest_n = -1\n",
    "\n",
    "while (smallest_n < 0):\n",
    "    n_squared = n**2\n",
    "    n_cubed = n**3\n",
    "    cat_n = f\"{n_squared}{n_cubed}\"\n",
    "    if len(set(cat_n)) == 10:\n",
    "        smallest_n = n\n",
    "    n += 1\n",
    "    \n",
    "print(smallest_n, smallest_n**2, smallest_n**3)"
   ]
  },
  {
   "cell_type": "markdown",
   "metadata": {},
   "source": [
    "---\n",
    "\n",
    "# Aufgabe 8 (Bonus: Pro*bier*aufgabe)\n",
    "\n",
    "Eine nüchterne Studentin sucht ein Restaurant auf, um ein paar Bierchen zu trinken und gegebenenfalls etwas zu essen. Jede \"Runde\" entscheidet sie sich\n",
    "\n",
    "* für ein Bier, wobei ihr Alkoholpegel um 3 steigt, während sich ihre Geldreserven und der Biervorrat des Wirts jeweils um 1 verringern,\n",
    "* etwas zu essen, wobei ihr Alkoholpegel und ihre Geldreserven um 2 sinken,\n",
    "* einfach eine Pause zu machen. Dabei sinkt der Alkoholpegel um 1.\n",
    "\n",
    "Steigt der Alkoholpegel der Studentin über, sagen wir, 10, so \"bricht\" die Studentin ihren Besuch ab, genauso, wenn sie pleite ist. \n",
    "\n",
    "Es gibt nur dann eine weitere Runde, falls der Wirt Bier ausschenken kann. \n",
    "Ist das Bier alle, schließt das Restaurant und der Besuch ist beendet. \n",
    "\n",
    "Schreiben Sie ein Programm, bei welchem der Benutzer die Parameter Biervorrat und Geldreserven anfänglich festlegt, und dann in jeder Runde für die Studentin zwischen den drei obigen Optionen entscheidet. \n",
    "\n",
    "Spielen Sie nach, wie der Besuch möglicherweise verlaufen könnte."
   ]
  },
  {
   "cell_type": "code",
   "execution_count": 9,
   "metadata": {},
   "outputs": [
    {
     "name": "stdout",
     "output_type": "stream",
     "text": [
      "The student is buying 1 beer\n",
      "Alcohol +3 (now: 3)\n",
      "Money -1 (now: 19)\n",
      "Beer -1 (now: 99)\n",
      "The student is buying 1 beer\n",
      "Alcohol +3 (now: 6)\n",
      "Money -1 (now: 18)\n",
      "Beer -1 (now: 98)\n",
      "The student is buying something to eat\n",
      "Alcohol -2 (now: 4)\n",
      "Money -2 (now: 16)\n",
      "Beer +0 (now: 98)\n",
      "The student is buying 1 beer\n",
      "Alcohol +3 (now: 7)\n",
      "Money -1 (now: 15)\n",
      "Beer -1 (now: 97)\n",
      "The student is taking a break\n",
      "Alcohol -1 (now: 6)\n",
      "Money +0 (now: 15)\n",
      "Beer +0 (now: 97)\n",
      "The student is taking a break\n",
      "Alcohol -1 (now: 5)\n",
      "Money +0 (now: 15)\n",
      "Beer +0 (now: 97)\n",
      "The student is buying something to eat\n",
      "Alcohol -2 (now: 3)\n",
      "Money -2 (now: 13)\n",
      "Beer +0 (now: 97)\n",
      "The student is buying 1 beer\n",
      "Alcohol +3 (now: 6)\n",
      "Money -1 (now: 12)\n",
      "Beer -1 (now: 96)\n",
      "The student is buying something to eat\n",
      "Alcohol -2 (now: 4)\n",
      "Money -2 (now: 10)\n",
      "Beer +0 (now: 96)\n",
      "The student is buying something to eat\n",
      "Alcohol -2 (now: 2)\n",
      "Money -2 (now: 8)\n",
      "Beer +0 (now: 96)\n",
      "The student is buying something to eat\n",
      "Alcohol -2 (now: 0)\n",
      "Money -2 (now: 6)\n",
      "Beer +0 (now: 96)\n",
      "The student is buying 1 beer\n",
      "Alcohol +3 (now: 3)\n",
      "Money -1 (now: 5)\n",
      "Beer -1 (now: 95)\n",
      "The student is taking a break\n",
      "Alcohol -1 (now: 2)\n",
      "Money +0 (now: 5)\n",
      "Beer +0 (now: 95)\n",
      "The student is buying 1 beer\n",
      "Alcohol +3 (now: 5)\n",
      "Money -1 (now: 4)\n",
      "Beer -1 (now: 94)\n",
      "The student is taking a break\n",
      "Alcohol -1 (now: 4)\n",
      "Money +0 (now: 4)\n",
      "Beer +0 (now: 94)\n",
      "The student is taking a break\n",
      "Alcohol -1 (now: 3)\n",
      "Money +0 (now: 4)\n",
      "Beer +0 (now: 94)\n",
      "The student is buying something to eat\n",
      "Alcohol -2 (now: 1)\n",
      "Money -2 (now: 2)\n",
      "Beer +0 (now: 94)\n",
      "The student is buying something to eat\n",
      "Alcohol -2 (now: -1)\n",
      "Money -2 (now: 0)\n",
      "Beer +0 (now: 94)\n"
     ]
    }
   ],
   "source": [
    "import random\n",
    "\n",
    "beer_in_storage = 100\n",
    "alcohol_level = 0\n",
    "money = 20\n",
    "\n",
    "round = 0\n",
    "\n",
    "while (beer_in_storage > 0 and alcohol_level <= 10 and money > 0):\n",
    "    choice = random.randint(1, 3)\n",
    "    dbeer = 0\n",
    "    dalc = 0\n",
    "    dmon = 0\n",
    "    if choice == 1:\n",
    "        print(\"The student is buying 1 beer\")\n",
    "        dalc = 3\n",
    "        dbeer = -1\n",
    "        dmon = -1\n",
    "    elif choice == 2:\n",
    "        print(\"The student is buying something to eat\")\n",
    "        dalc = -2\n",
    "        dmon = -2\n",
    "    elif choice == 3:\n",
    "        print(\"The student is taking a break\")\n",
    "        dalc = -1\n",
    "        \n",
    "    alcohol_level += dalc\n",
    "    print(\"Alcohol {0:+} (now: {1})\".format(dalc, alcohol_level))\n",
    "    money += dmon\n",
    "    print(\"Money {0:+} (now: {1})\".format(dmon, money))\n",
    "    beer_in_storage += dbeer\n",
    "    print(\"Beer {0:+} (now: {1})\".format(dbeer, beer_in_storage))"
   ]
  },
  {
   "cell_type": "markdown",
   "metadata": {},
   "source": [
    "<img src=\"https://imgur.com/crAtVMC.png\" alt=\"\" width=\"500\" border=\"0\" />"
   ]
  }
 ],
 "metadata": {
  "kernelspec": {
   "display_name": "Python 3 (ipykernel)",
   "language": "python",
   "name": "python3"
  },
  "language_info": {
   "codemirror_mode": {
    "name": "ipython",
    "version": 3
   },
   "file_extension": ".py",
   "mimetype": "text/x-python",
   "name": "python",
   "nbconvert_exporter": "python",
   "pygments_lexer": "ipython3",
   "version": "3.10.12"
  }
 },
 "nbformat": 4,
 "nbformat_minor": 1
}
