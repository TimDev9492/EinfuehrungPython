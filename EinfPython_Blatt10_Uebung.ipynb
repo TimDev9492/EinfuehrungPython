{
  "metadata": {
    "kernelspec": {
      "name": "python",
      "display_name": "Python (Pyodide)",
      "language": "python"
    },
    "language_info": {
      "codemirror_mode": {
        "name": "python",
        "version": 3
      },
      "file_extension": ".py",
      "mimetype": "text/x-python",
      "name": "python",
      "nbconvert_exporter": "python",
      "pygments_lexer": "ipython3",
      "version": "3.8"
    },
    "varInspector": {
      "cols": {
        "lenName": 16,
        "lenType": 16,
        "lenVar": 40
      },
      "kernels_config": {
        "python": {
          "delete_cmd_postfix": "",
          "delete_cmd_prefix": "del ",
          "library": "var_list.py",
          "varRefreshCmd": "print(var_dic_list())"
        },
        "r": {
          "delete_cmd_postfix": ") ",
          "delete_cmd_prefix": "rm(",
          "library": "var_list.r",
          "varRefreshCmd": "cat(var_dic_list()) "
        }
      },
      "types_to_exclude": [
        "module",
        "function",
        "builtin_function_or_method",
        "instance",
        "_Feature"
      ],
      "window_display": false
    }
  },
  "nbformat_minor": 4,
  "nbformat": 4,
  "cells": [
    {
      "cell_type": "markdown",
      "source": "# Einführung in Python - Übungsblatt 10\n## Aufgabe 1 (Fehlerbehandlung mit Exceptions)\nMithilfe des Schlüsselwortes `raise` kann eine Exception geworfen und somit eine `BaseException`-Instanz erzeugt und der übergeordneten Ebene weitergegeben werden.\n\nBeispiel:\n```python\nraise Exception(\"Oooooops\")\n```\n\n*Nice to know:  \nMan kann bei `raise` auch nur eine Exception-Klasse übergeben. Hierbei wird indirekt immer mit dem default-Konstruktor instanziiert.*\n\nWeitere Informationen zum Werfen von Exeptions finden Sie in der [Python-Dokumentation](https://docs.python.org/3/tutorial/errors.html#raising-exceptions).\n\n---\n\nHier eine (modifizierte) Zusammenstellung aus der obigen Dokumentation als Wiederholung des Vorlesungsstoffes:  \nThe try statement works as follows:\n- First, the `try` clause (the statement(s) between the `try` and `except` keywords) is executed.\n\n- If no exception occurs, the `except` clauses are skipped and execution of the `try` statement is finished. The `try`-`except` statement has an optional `else` clause, which, when present, must follow all `except` clauses. It is useful for code that must be executed if the `try` clause does not raise an exception.\n\n- If an exception occurs during execution of the `try` clause, the rest of the clause is skipped. Then if its type matches the exception named after the except keyword (or any parent-class), the `except` clause is executed, and then execution continues after the `try` statement.\n\n- If an exception occurs which does not match any exception in the `except` clauses, it is passed on to outer `try` statements. If no handler is found, it is an *unhandled exception* and execution stops with an error message.\n\n- The `try` statement has another optional clause which is intended to define clean-up actions that must be executed under all circumstances. If a `finally` clause is present, the `finally` clause will execute as the last task before the `try` statement completes. The `finally` clause runs whether or not the `try` statement produces an exception.",
      "metadata": {}
    },
    {
      "cell_type": "markdown",
      "source": "### a) Exception-Handling (`try`-`except`-`else`-`finally`)\nFühren Sie die folgende Zelle aus und testen Sie das Verhalten jeweils für die Benutzereingaben `50`,`1000`, `Kiebitz`, `0`. \n\nErklären und begründen Sie, welcher Code bei welcher Eingabe ausgeführt wird in einem Kommentar.",
      "metadata": {}
    },
    {
      "cell_type": "code",
      "source": "try:\n    a = input(\"Geben Sie etwas ein: \")\n    b = int(a)\n    print(b)\n    c = 1/b\n    print(c)\n    d = float(b**b)\n    print(d)\nexcept OverflowError:\n    print(\"Sachte!\")\nexcept ZeroDivisionError as v:\n    print(\"Operation nicht definiert!\")\n    print(\"Fehler:\", v)\nelse:\n    print(\"Alles gut!\")\nfinally:\n    print(\"Muss ich aufraeumen?\")\n    print(\"Schluss...\")",
      "metadata": {
        "trusted": true
      },
      "outputs": [
        {
          "name": "stdout",
          "text": "Muss ich aufraeumen?\nSchluss...\n",
          "output_type": "stream"
        },
        {
          "ename": "<class 'TypeError'>",
          "evalue": "int() argument must be a string, a bytes-like object or a real number, not 'PyodideFuture'",
          "traceback": [
            "\u001b[0;31m---------------------------------------------------------------------------\u001b[0m",
            "\u001b[0;31mTypeError\u001b[0m                                 Traceback (most recent call last)",
            "Cell \u001b[0;32mIn[1], line 3\u001b[0m\n\u001b[1;32m      1\u001b[0m \u001b[38;5;28;01mtry\u001b[39;00m:\n\u001b[1;32m      2\u001b[0m     a \u001b[38;5;241m=\u001b[39m \u001b[38;5;28minput\u001b[39m(\u001b[38;5;124m\"\u001b[39m\u001b[38;5;124mGeben Sie etwas ein: \u001b[39m\u001b[38;5;124m\"\u001b[39m)\n\u001b[0;32m----> 3\u001b[0m     b \u001b[38;5;241m=\u001b[39m \u001b[38;5;28;43mint\u001b[39;49m\u001b[43m(\u001b[49m\u001b[43ma\u001b[49m\u001b[43m)\u001b[49m\n\u001b[1;32m      4\u001b[0m     \u001b[38;5;28mprint\u001b[39m(b)\n\u001b[1;32m      5\u001b[0m     c \u001b[38;5;241m=\u001b[39m \u001b[38;5;241m1\u001b[39m\u001b[38;5;241m/\u001b[39mb\n",
            "\u001b[0;31mTypeError\u001b[0m: int() argument must be a string, a bytes-like object or a real number, not 'PyodideFuture'"
          ],
          "output_type": "error"
        },
        {
          "output_type": "stream",
          "name": "stdin",
          "text": "Geben Sie etwas ein:  50\n"
        }
      ],
      "execution_count": 1
    },
    {
      "cell_type": "markdown",
      "source": "\n### b) `except`-Reihenfolge bei vererbten Exceptions\nBetrachten Sie folgenden Code und experimentieren Sie mit den Eingaben: `s`, `i`, `ba`, `bl`, `ns`. \n\nErklären Sie in einem Kommentar warum es nicht möglich ist, die Ausgabe ```Bein gebrochen``` zu erzeugen? Wie könnte man das Problem lösen?",
      "metadata": {}
    },
    {
      "cell_type": "code",
      "source": "class SportsError(Exception):\n    def __init__(self, user_input):\n        self.user_input = user_input\n\n    def __str__(self):\n        return \"[\" + self.__class__.__name__ + \": \" + self.user_input + \"]\"\n    \nclass InjuryError(SportsError): pass\nclass BrokenArmError(InjuryError): pass\nclass BrokenLegError(InjuryError): pass\nclass NoShoesError(SportsError): pass\n\ntry:\n    choice = input(\"Was soll passieren? \")\n    exp = {\"s\": SportsError, \"i\": InjuryError, \"ba\": BrokenArmError,\n           \"bl\": BrokenLegError, \"ns\": NoShoesError}.get(choice, ValueError)\n    raise exp(choice)\nexcept BrokenArmError as e:\n    print(\"Arm gebrochen. Fehler:\", e)\nexcept InjuryError as e:\n    print(\"Sportler verletzt. Fehler:\", e)\nexcept BrokenLegError as e:\n    print(\"Bein gebrochen. Fehler:\", e)\nexcept SportsError as e:\n    print(\"Irgendein Sportunfall ist passiert. Fehler:\", e)\nexcept Exception as e:\n    print(\"Da ist was schief gelaufen... Fehlermeldung: '\", e, \"'\", sep=\"\")   \n\n# Bein gebrochen wird nie ausgeführt, da \n# BrokenLegError von InjuryError erbt und\n# dieser Error zuerst abgearbeitet wird.",
      "metadata": {},
      "outputs": [],
      "execution_count": null
    },
    {
      "cell_type": "markdown",
      "source": "\n### c) Exceptions als Abbruchoperation über mehrere Aufrufebenen hinweg\nErweitern Sie die folgende Zelle (mit Hilfe von Exceptions) so, dass durch die Eingabe von ```ende``` sofort alle Schleifen verlassen werden.\n\n*Hinweis: Während Ihres Implementierungsprozesses kann es passieren, dass der Python-Kernel durch die Ausführung der Zelle dauerhaft läuft (Endlosschleife). Das kann man oben rechts an dem ausgefüllten Kreis neben \"Python 3\" erkennen. In diesem Fall können Sie die Ausführung bzw. den Kernel stoppen, indem Sie auf den Stop-Button (das schwarze Quadrat in der Toolbar) klicken.*",
      "metadata": {}
    },
    {
      "cell_type": "code",
      "source": "for i in range(1000):\n    for j in range(10000):\n        for k in range(10000):\n            while True:\n                user_input = input(\"Mit ende kommen Sie sauber raus. \")\n                print(\"Hallo\")\nprint(\"Endlich keine Schleifen mehr\")",
      "metadata": {},
      "outputs": [],
      "execution_count": null
    },
    {
      "cell_type": "markdown",
      "source": "\n### d) Validierung von Benutzereingaben als Anwendungsbeispiel\nSchreiben Sie eine Funktion `read_integer`, die eine ganze Zahl von der Tastatur einliest und zurückgibt. Dabei soll der Benutzer bei einer ungültigen Eingabe solange aufgefordert werden, die Zahl erneut einzugeben, bis die Eingabe gültig ist. Falls er einen leeren String eingibt, soll das Programm den Benutzer fragen, ob er die Eingabe abbrechen möchte. Erst nach der Bestätigung wird die Funktion verlassen und `None` zurückgeliefert. Verwenden Sie hierfür eine geeignete `try`-`except`-Struktur.",
      "metadata": {}
    },
    {
      "cell_type": "code",
      "source": "from number import Number\n\ndef read_integer():\n    try:\n        while not isinstance(user_input, Number):\n            user_input = input(\"Enter a number:\")\n            if not user_input:\n                yesno = input(\"Do you want to exit? [y/n]\")\n                if yesno == \"y\":\n                    raise Exception(\"User wants to exit\")\n    except Exeption:\n        return None\n",
      "metadata": {
        "trusted": true
      },
      "outputs": [],
      "execution_count": null
    },
    {
      "cell_type": "code",
      "source": "read_integer()",
      "metadata": {
        "trusted": true
      },
      "outputs": [],
      "execution_count": null
    },
    {
      "cell_type": "markdown",
      "source": "---\n\n**Die folgenden Aufgaben (2 und 3) vervollständigen die bereitgestellte Datei `spidersolitaire.py`, welche die Lösung des 6. Übungsblatts enthält, und werden daher nicht direkt im Jupyter Notebook gelöst. Hier steht nur der Aufgabentext.**\n\n## Aufgabe 2 (Iteratoren und Generatoren für Spider Solitaire)\nZiel ist die Bereitstellung von Methoden in der Datei `spidersolitaire.py`, die das Iterieren über die offenen Karten eines Stacks und über die Stacks an sich ermöglicht (Bearbeitungszeit beträgt ungefähr 15 Minuten, da nicht wirklich viel zu implementieren ist).   \n\nDazu wollen wir zunächst die Instanzen der Klasse `Sequence` zu iterierbaren Objekten machen, indem wir die magische Methode `__iter__` implementieren. Darauf aufbauend implementieren wir eine Generatorfunktion `iter_faceup_cards` innerhalb der Klasse `Stack`. Diese erzeugt einen Generator, der alle **offenen Karten** des Stacks nacheinander liefert. Abschließend erstellen wir in der Klasse `SpiderSolitaire` eine Methode `iter_stacks`, welche einen Iterator über alle Stacks liefert.  \n\n### a)  `Sequence` als iterierbarer Datentyp\nDie Methode `__iter__` innerhalb der Klasse `Sequence` soll einen Iterator zurückliefern, welcher die Karten der Sequenz, gespeichert im Attribut `_cards`, absteigend im Wert liefert. Dabei können wir ausnutzen, dass dieses Attribut eine Liste ist und Listen in Python iterierbare Objekte darstellen. \n\nImplementieren Sie die Methoden `__iter__` als Funktion, welche direkt die Funktion `iter` verwendet.\n\n### b) Generatorfunktion über die offenen Karten\nDa die Sequenzen eines Stacks innerhalb des Listen-Attributs `_sequences` gespeichert sind, können wir über diese iterieren. Die Sequenzen sind wegen der magischen Methode `__iter__` (siehe a)) selbst auch iterierbar.  \nIterieren Sie über alle Sequenzen des Stacks und alle Karten der jeweiligen Sequenz (doppelte `for`-Schleife) und nutzen Sie das Schlüsselwort `yield`, um die einzelnen Karten zu generieren.  \nDadurch erzeugen wir eine Generatorfunktion, mit der wir über alle (offenen) Karten des Stacks iterieren können.\n\nImplementieren Sie die Methode `iter_faceup_cards` innerhalb der Klasse `Stack` als Generatorfunktion, welche die Iterierbarkeit von Sequenzen ausnutzt.\n\n \n### c) Iteratoren über alle Stacks\nImplementieren Sie die Methoden `iter_stacks` in der Klasse `SpiderSolitaire` als Funktion, die wie in a) direkt die Funktion `iter` verwendet.",
      "metadata": {}
    },
    {
      "cell_type": "markdown",
      "source": "## Aufgabe 3 (Exceptions für Spider Solitaire)\nZiel dieser Aufgabe ist ein Programmfluss der Spiellogik in `spidersolitaire.py`, welcher teilweise durch Exceptions gesteuert wird, indem einerseits die `print`-`return`-Konstrukte durch das Werfen geeigneter zu programmierender Exceptions ersetzt und zum anderen einige `try`-`except`-Blöcke in aufrufenden Ebenen implementiert werden. \n\nDie `print`-Aufrufe würden später bei einer Version des Spiels mit graphischer Oberfläche stören. \n\nWie Sie bereits in Aufgabe 1 des 9. Übungsblatts bei der Exception `StopIteration` gesehen haben, werden in Python Exceptions genutzt, um den Programmfluss zu steuern. Das [EAFP](https://docs.python.org/3.6/glossary.html#term-eafp)-Prinzip (easier to ask for forgiveness than permission) unterscheidet Python zu anderen Programmiersprachen, wie zum Beispiel Java, bei denen das [LBYL](https://docs.python.org/3.6/glossary.html#term-lbyl)-Prinzip (look before you leap) bevorzugt wird.    \n\n### a) `UnsupportedMerge`- und `NoLastSequence`-Exception\nImplementieren Sie in der Datei `spidersolitaire.py` die Exception-Klassen `UnsupportedMerge` und `NoLastSequence`, welche von der Klasse `Exception` erben, selbst aber keinerlei Funktionalität aufweisen (Stichwort `pass`-Anweisung). \n\nErsetzen Sie die `print`-`return`-Struktur in den Methoden `merge`, `last_sequence` und `remove_last_sequence` durch das Werfen der entsprechenden Exception.\n\nErsetzen Sie die `if`-`else`-Struktur (LBYL) in den Methoden `deal_card` und `abort_move` durch passende `try`-`except`-Blöcke (EAFP), indem Sie geeignete Exceptions fangen.\n\n### b) `UnsupportedSplit`-Exception\nImplementieren Sie eine Exception-Klasse `UnsupportedSplit`, welche von der Klasse `Exception` erbt und ein Attribut `full_split` besitzt, welches durch den Konstruktor gesetzt werden soll. \n\nErsetzen Sie die `print`-`return`-Struktur in der Methode `split` durch das Werfen dieser Exception. Dabei soll im Fall einer solchen Exception der Konstruktor genau dann den boolschen Wert `True` erhalten, falls der Wert von `index` gleich 0 ist.\n\nErsetzen Sie die beiden unteren `if`- bzw. `if`-`else`-Aufrufe der Methode `pick_up` durch einen `try`-`except`-Block mit zwei `except`-Blöcken, bei welchem Sie sowohl die Exception `NoLastSequence` als auch die Exception `UnsupportedSplit` fangen.  \nIm Fall einer `NoLastSequence`-Exception soll eine `SpiderSolitaireError`-Exception mit der Information `f\"Stack {stack_index} is empty!\"` geworfen werden (siehe Teilaufgabe c)).  \nIm Fall einer `UnsupportedSplit`-Exception soll in Abhängigkeit des boolschen Werts des Attributs `full_split` entweder die letzte Sequenz gelöscht werden (`full_split == True`) (Code dafür ist ja schon vorhanden) oder widerum eine `SpiderSolitaireError`-Exception mit der Information `\"Wrong index for sequence!\"` geworfen werden (`full_split == False`).  \n\n### c) `SpiderSolitaireError`-Exception\nImplementieren Sie eine Exception-Klasse `SpiderSolitaireError`, welche von der Klasse `Exception` erbt, selbst aber keinerlei Funktionalität aufweist (Stichwort `pass`-Anweisung). \n\nErsetzen Sie in den Methoden `deal` (dort die erste), `pick_up` (die beiden restlichen) und `move` alle `print`-`return`-Strukturen, indem Sie die dort bisher ausgegebene Information beim Werfen der Exception übergeben. \n\n### d) `DealError`-Exception\nImplementieren Sie eine Exception-Klasse `DealError`, welche von der Klasse `SpiderSolitaireError` erbt und ein Attribut `empty_stacks` besitzt, welches durch den Konstruktor gesetzt werden soll. \n\nErsetzen Sie die `print`-`return`-Struktur der Methode `deal`, welche den Fall von leeren Stacks behandelt, durch das Werfen einer `DealError`-Exception, wobei die Information, welche Stacks leer sind, übergeben werden soll.\n\n\n### e) Exception beim Instanziieren von Sequenzen\nIm Konstruktor der Klasse `Sequence` wird überprüft, ob die übergebene Liste von Karten tatsächlich eine Sequenz darstellt. Ist dies nicht der Fall, wurde im Verlauf des Spiels ein inkonsistenter Zustand erreicht, welcher das Spiel zum Abbruch bringen soll!\nErsetzen Sie die beiden `print`-`return`-Strukturen im Konstruktor durch das Werfen einer `Exception`-Exception.\nDa wir diese Exception nirgendwo fangen, bringt ein solcher Zustand das Spiel (richtigerweise) zum Abstürzen.\n\n**Was haben wir bisher erreicht: In allen Methoden, welche Sie später für die Version mit graphischer Oberfläche nutzen können, wurden die `print`-`return`-Strukturen durch das Werfen von Exceptions ersetzt (die `print`-Aufrufe in der Methode `play` sind irrelevant, da diese Methode nur bei der Konsolenvariante verwendet wird). Zusätzlich wurde durch das Fangen von Exceptions der Programmfluss gesteuert.** \n\n### f) `try`-`except`-Block im Hauptprogramm\nRealisieren Sie einen `try`-`except`-Block in der `while`-Schleife im Hauptprogramm (nach `if __name__ == \"__main__\":`) mit zwei `except`-Blöcken, in denen Sie auf die Exceptions `DealError` und `SpiderSolitaireError` reagieren. Beachten Sie die Reihenfolge dieser Blöcke. Während bei der Exception `SpiderSolitaireError` lediglich der String im Attribut `args` ausgegeben werden soll, soll im Fall eines `DealError` zusätzlich die Liste der leeren Stacks ausgegeben werden, also auf das entsprechende Attribut `empty_stacks` zugegriffen werden.",
      "metadata": {}
    },
    {
      "cell_type": "code",
      "source": "",
      "metadata": {},
      "outputs": [],
      "execution_count": null
    }
  ]
}